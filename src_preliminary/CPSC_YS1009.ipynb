{
 "cells": [
  {
   "cell_type": "markdown",
   "metadata": {
    "nbpresent": {
     "id": "add9e2f3-6d88-4aaf-9949-d4837c2c9a1c"
    }
   },
   "source": [
    "# 准备数据"
   ]
  },
  {
   "cell_type": "code",
   "execution_count": 1,
   "metadata": {
    "nbpresent": {
     "id": "a2d28b54-7278-4e1d-a5e3-94d01458106c"
    }
   },
   "outputs": [
    {
     "name": "stderr",
     "output_type": "stream",
     "text": [
      "Using TensorFlow backend.\n"
     ]
    }
   ],
   "source": [
    "import warnings\n",
    "warnings.filterwarnings('ignore')\n",
    "\n",
    "import matplotlib\n",
    "%matplotlib inline\n",
    "import matplotlib.pyplot as plt\n",
    "from matplotlib.backends.backend_pdf import PdfPages\n",
    "\n",
    "import wfdb \n",
    "import numpy as np\n",
    "import math\n",
    "import sys\n",
    "import scipy.stats as st\n",
    "import scipy.io as sio\n",
    "import scipy\n",
    "import glob, os\n",
    "from os.path import basename\n",
    "\n",
    "import keras\n",
    "import tensorflow as tf\n",
    "from keras import backend as K\n",
    "from keras.layers import Dense,Activation,Dropout,add\n",
    "from keras.layers import LSTM,Bidirectional #could try TimeDistributed(Dense(...))\n",
    "from keras.models import Sequential, load_model\n",
    "from keras import optimizers,regularizers\n",
    "from keras.layers.normalization import BatchNormalization\n",
    "import keras.backend.tensorflow_backend as KTF\n",
    "from keras.callbacks import ModelCheckpoint, ReduceLROnPlateau, EarlyStopping\n",
    "from tqdm import tqdm\n",
    "from keras.utils import np_utils\n",
    "from scipy import ndimage\n",
    "import pandas as pd\n",
    "import matplotlib.pyplot as plt                    #导入pandas包\n",
    "from keras.utils import to_categorical\n",
    "from tqdm import tqdm\n",
    "\n",
    "from scipy import signal\n",
    "# from biosppy.signals import ecg\n",
    "import logging\n"
   ]
  },
  {
   "cell_type": "code",
   "execution_count": 2,
   "metadata": {},
   "outputs": [],
   "source": [
    "# from net import build_model\n",
    "# from keras.layers import Input\n",
    "# from keras.models import Model\n",
    "\n",
    "# input_layer = Input((2000, 1))\n",
    "# output_layer = build_model(input_layer=input_layer,start_neurons=16)\n",
    "# model3 = Model(input_layer, output_layer)\n",
    "# model3.summary()"
   ]
  },
  {
   "cell_type": "code",
   "execution_count": 3,
   "metadata": {
    "nbpresent": {
     "id": "891fd2b1-7675-498c-ba4a-6f4e209163ce"
    }
   },
   "outputs": [],
   "source": [
    "FS_ORI = 400\n",
    "FS = 200\n",
    "\n",
    "CONST = FS/FS_ORI\n",
    "THR = 0.15\n",
    "DATA_PATH = '../TrainingSet/data/'\n",
    "REF_PATH = '../TrainingSet/ref/'\n",
    "ms_150 = 0.12*FS\n",
    "ms_200 = 0.15*FS\n",
    "len_seg = FS*10#1024\n",
    "len_ecg = FS*10#1024"
   ]
  },
  {
   "cell_type": "code",
   "execution_count": 4,
   "metadata": {
    "code_folding": [],
    "nbpresent": {
     "id": "bfdf2d15-819e-427d-935b-1443f8196b07"
    }
   },
   "outputs": [],
   "source": [
    "from scipy import ndimage, misc\n",
    "def med_filt_1d(ecg):\n",
    "    '''\n",
    "    first_filtered = ndimage.median_filter(ecg, size=int(0.4*FS))\n",
    "    second_filtered =  ndimage.median_filter(first_filtered, int(2*FS))\n",
    "    '''\n",
    "    first_filtered = ndimage.median_filter(ecg, size=int(7*(FS/FS_ORI)))\n",
    "    second_filtered =  ndimage.median_filter(first_filtered, int(215*(FS/FS_ORI)))\n",
    "    ecg_deno = ecg - second_filtered\n",
    "    return ecg_deno\n",
    "\n",
    "from scipy.signal import butter, sosfilt, sosfiltfilt, filtfilt\n",
    "def butter_bandpass(lowcut, highcut, fs, order=5):\n",
    "    nyq = 0.5 * fs\n",
    "    low = lowcut / nyq\n",
    "    high = highcut / nyq\n",
    "    sos = butter(order, [low, high], analog=False, btype=\"band\", output=\"sos\")\n",
    "    return sos\n",
    "\n",
    "def butter_bandpass_filter(data, lowcut, highcut, fs, order=5):\n",
    "    sos = butter_bandpass(lowcut, highcut, fs, order=order)\n",
    "    y = sosfilt(sos,data)    \n",
    "    return y\n",
    "\n",
    "def butter_bandpass_forward_backward_filter(data, lowcut, highcut, fs, order=5):\n",
    "    sos = butter_bandpass(lowcut, highcut, fs, order=order)\n",
    "    y = sosfiltfilt(sos,data) \n",
    "    return y\n",
    "\n",
    "from sklearn import preprocessing as prep\n",
    "\n",
    "def getSigArr(sig, sigNorm='minmax'):\n",
    "    if sigNorm == 'scale':\n",
    "        sig = prep.scale(sig)\n",
    "    elif sigNorm == 'minmax':\n",
    "        min_max_scaler = prep.MinMaxScaler()\n",
    "        sig = min_max_scaler.fit_transform(sig)\n",
    "    return sig"
   ]
  },
  {
   "cell_type": "code",
   "execution_count": null,
   "metadata": {},
   "outputs": [],
   "source": []
  },
  {
   "cell_type": "code",
   "execution_count": 5,
   "metadata": {
    "nbpresent": {
     "id": "0131d6d3-e2ea-41dc-8a4b-04824adea3d0"
    }
   },
   "outputs": [],
   "source": [
    "def reLabel(x, y, label_type = 1):\n",
    "    '''\n",
    "    对所有QRS波进行标记，QRS波检测函数采用biosppy工具包中的osea检测方法\n",
    "    '''\n",
    "    for ind in range(0,x.shape[0]):\n",
    "        summary_result = ecg.ecg(x[ind], FS, False)\n",
    "        \n",
    "#         x[ind] = butter_bandpass_forward_backward_filter(x[ind], 0.5, 35, FS, order=5)\n",
    "        x[ind] = med_filt_1d(x[ind])\n",
    "#         x[ind] = WTfilt_1d(x[ind])\n",
    "        \n",
    "        \"\"\"\n",
    "        if(ind < 5):\n",
    "            plt.figure( )\n",
    "            plt.plot(x[ind])\n",
    "            plt.plot(summary_result['filtered_selfdef'])\n",
    "            plt.show()\n",
    "        \"\"\"    \n",
    "        for m in summary_result['rpeaks']:\n",
    "            label = y[ind][m]\n",
    "            if label == 0:\n",
    "                m_begin = int(m-ms_150 if m-ms_150>=0 else 0)\n",
    "                m_end = int(m+ms_200 if m+ms_200<len_ecg else len_ecg-1)\n",
    "                \n",
    "                y[ind][m_begin:m_end] = label_type;\n",
    "            else:\n",
    "                pass \n",
    "        \n",
    "    return x,y"
   ]
  },
  {
   "cell_type": "code",
   "execution_count": 6,
   "metadata": {},
   "outputs": [],
   "source": [
    "data_files = os.listdir(DATA_PATH)\n",
    "ref_files = glob.glob(REF_PATH + '*.mat')"
   ]
  },
  {
   "cell_type": "code",
   "execution_count": 7,
   "metadata": {},
   "outputs": [
    {
     "data": {
      "text/plain": [
       "['A01.mat',\n",
       " 'A02.mat',\n",
       " 'A03.mat',\n",
       " 'A04.mat',\n",
       " 'A05.mat',\n",
       " 'A06.mat',\n",
       " 'A07.mat',\n",
       " 'A08.mat',\n",
       " 'A09.mat',\n",
       " 'A10.mat']"
      ]
     },
     "execution_count": 7,
     "metadata": {},
     "output_type": "execute_result"
    }
   ],
   "source": [
    "data_files.sort()\n",
    "data_files"
   ]
  },
  {
   "cell_type": "code",
   "execution_count": 8,
   "metadata": {},
   "outputs": [
    {
     "data": {
      "text/plain": [
       "['../TrainingSet/ref/R01.mat',\n",
       " '../TrainingSet/ref/R02.mat',\n",
       " '../TrainingSet/ref/R03.mat',\n",
       " '../TrainingSet/ref/R04.mat',\n",
       " '../TrainingSet/ref/R05.mat',\n",
       " '../TrainingSet/ref/R06.mat',\n",
       " '../TrainingSet/ref/R07.mat',\n",
       " '../TrainingSet/ref/R08.mat',\n",
       " '../TrainingSet/ref/R09.mat',\n",
       " '../TrainingSet/ref/R10.mat']"
      ]
     },
     "execution_count": 8,
     "metadata": {},
     "output_type": "execute_result"
    }
   ],
   "source": [
    "ref_files.sort()\n",
    "ref_files"
   ]
  },
  {
   "cell_type": "code",
   "execution_count": 9,
   "metadata": {
    "nbpresent": {
     "id": "00ada956-bdf4-4193-a63d-fc897e15fddb"
    },
    "scrolled": false
   },
   "outputs": [],
   "source": [
    "def firstLabel(label_new, label_ref, len_ecg, label_type): \n",
    "    '''\n",
    "    根据早搏位置，对早搏心拍进行标记\n",
    "    '''\n",
    "    try:\n",
    "        for m in label_ref:\n",
    "            m_begin = int(m-ms_150 if m-ms_150>=0 else 0)\n",
    "            m_end = int(m+ms_200 if m+ms_200<len_ecg else len_ecg-1)\n",
    "\n",
    "            for n in range(m_begin,m_end):\n",
    "                label_new[n] = label_type\n",
    "                \n",
    "    except TypeError:\n",
    "        print(\"TypeError\")\n",
    "        m_begin = int(label_ref-ms_150 if label_ref-ms_150>=0 else 0)\n",
    "        m_end = int(label_ref+ms_200 if label_ref+ms_200<len_ecg else len_ecg-1)\n",
    "\n",
    "        for n in range(m_begin,m_end):\n",
    "            label_new[n] = label_type\n",
    "            \n",
    "        pass\n",
    "    return\n",
    "\n",
    "\n",
    "def resave_data(ecg_data, label_new, dataid, is_select = 0):\n",
    "    '''\n",
    "    数据分段，段长度为len_seg，\n",
    "    如果第一秒和最后一秒数据出现早搏，则将数据前移或者后移一秒\n",
    "    '''\n",
    "    mod_res = len(ecg_data)%len_seg \n",
    "    if (mod_res > 0):\n",
    "        num_to_pad = len_seg - mod_res\n",
    "        ecg_data_pad = np.pad(ecg_data,(0,num_to_pad),'constant', constant_values=(0,0)) \n",
    "        label_new_pad = np.pad(label_new,(0,num_to_pad),'constant', constant_values=(0,0)) \n",
    "    else:\n",
    "        ecg_data_pad = ecg_data\n",
    "        label_new_pad = np.array(label_new)\n",
    "    \n",
    "    ecg_data_mat = None\n",
    "    label_new_mat = None\n",
    "    \n",
    "    len_ecg_pad = len(ecg_data_pad)\n",
    "\n",
    "    ind = 0\n",
    "    while ind < len_ecg_pad:\n",
    "        ind_begin = ind\n",
    "        ind_end = ind_begin+len_seg\n",
    "        \n",
    "        if ind_end < len_ecg_pad:\n",
    "            label_tmp_1 = label_new_pad[ind_begin: ind_end]\n",
    "            \n",
    "            if ((np.sum(label_tmp_1)) == 0 and is_select):\n",
    "                ind = ind_begin+len_seg \n",
    "                continue\n",
    "            else:\n",
    "                if (is_select):\n",
    "                    if ((np.sum(label_tmp_1[:FS])) >0) :\n",
    "                        ind_begin = ind - FS\n",
    "                    elif ((np.sum(label_tmp_1[-FS:]))>0):\n",
    "                        ind_begin = ind + FS\n",
    "                    ind_end = ind_begin+len_seg\n",
    "                \n",
    "                label_tmp = label_new_pad[ind_begin: ind_end]\n",
    "                ecg_tmp = ecg_data_pad[ind_begin: ind_end]\n",
    "                \n",
    "                if ecg_data_mat is None:\n",
    "                    ecg_data_mat = np.array(ecg_tmp)\n",
    "                    label_new_mat = np.array(label_tmp)\n",
    "                else:\n",
    "                    ecg_data_mat = np.vstack((ecg_data_mat,ecg_tmp)) \n",
    "                    label_new_mat = np.vstack((label_new_mat,label_tmp))   \n",
    "        else:\n",
    "            break\n",
    "            \n",
    "        ind = ind_begin+len_seg\n",
    "    \"\"\"\n",
    "    scio.savemat(\"ecgdata_\"+FS+\"_\"dataid+\".mat\", {'Data':ecg_data_mat, 'Label':label_new_mat})\n",
    "    plt.figure( )\n",
    "    plt.plot(ecg_data_mat[2,])\n",
    "    plt.plot(label_new_mat[2,])\n",
    "    plt.show()\n",
    "    \"\"\"\n",
    "    return ecg_data_mat, label_new_mat\n",
    "\n",
    "def load_ans(is_load_train = True, is_select = 0):\n",
    "    \"\"\"\n",
    "    Function for loading the detection results and references\n",
    "    Input:\n",
    "        is_load_train：是否加载训练数据\n",
    "        is_select：是否只加载标签不为零的数据\n",
    "    Ouput:\n",
    "        S_refs: position references for S\n",
    "        V_refs: position references for V\n",
    "        S_results: position results for S\n",
    "        V_results: position results for V\n",
    "    \"\"\"\n",
    "    data_files = glob.glob(DATA_PATH + '*.mat')\n",
    "    ref_files = glob.glob(REF_PATH + '*.mat')\n",
    "    \n",
    "    data_files.sort()\n",
    "    ref_files.sort()\n",
    "        \n",
    "    S_refs = []\n",
    "    V_refs = []\n",
    "    S_results = []\n",
    "    V_results = []\n",
    "    \n",
    "    data = None\n",
    "    label = None\n",
    "    for i, data_file in enumerate(data_files):\n",
    "        if (is_load_train==1 and (i<7 or i==9)):         #A01~A07以及A10作为训练数据 \n",
    "            pass\n",
    "        elif(is_load_train==0 and (i==7 or i==8)):       #A08、A09作为测试数据\n",
    "            pass\n",
    "        else:\n",
    "            continue \n",
    "            \n",
    "        print(data_file)\n",
    "        \n",
    "        dataid = data_file.split('/')[-1].split('.')[0]\n",
    "        print(dataid)\n",
    "        \n",
    "        # load ecg file\n",
    "        ecg_data_ori = sio.loadmat(data_file)['ecg'].squeeze()\n",
    "        len_ecg_ori = len(ecg_data_ori)\n",
    "\n",
    "        # 数据下采样\n",
    "        #ecg_data = signal.resample(ecg_data_ori, int(len_ecg_ori*CONST))\n",
    "        ecg_data = ecg_data_ori[1::2]\n",
    "        len_ecg = len(ecg_data)\n",
    "        \n",
    "        #数据预处理\n",
    "        ecg_data = med_filt_1d(ecg_data)\n",
    "        ##ecg_data = butter_bandpass_forward_backward_filter(ecg_data, 0.5, 35, FS, order=5)\n",
    "       \n",
    "        # load answers\n",
    "        s_ref = sio.loadmat(ref_files[i])['ref']['S_ref'][0, 0].squeeze()\n",
    "        v_ref = sio.loadmat(ref_files[i])['ref']['V_ref'][0, 0].squeeze()\n",
    "   \n",
    "        #标签下采样\n",
    "        s_ref = (s_ref*CONST).astype(int)\n",
    "        v_ref = (v_ref*CONST).astype(int)\n",
    "\n",
    "        label_new = [0]*len_ecg\n",
    "\n",
    "        #数据标记\n",
    "        firstLabel(label_new, s_ref, len_ecg, 1)\n",
    "        firstLabel(label_new, v_ref, len_ecg, 2)\n",
    "        \n",
    "        ecg_data_split = []\n",
    "        ecg_label_split = []\n",
    "        label_new = np.array(label_new)\n",
    "        \n",
    "        for i in tqdm(range(int(ecg_data.shape[0]/len_seg))):\n",
    "            index_begin = i*len_seg\n",
    "            index_end = (i+1)*len_seg\n",
    "            #ecg_seg = ecg_data[i*len_seg:(i+1)*len_seg]\n",
    "            label_seg = label_new[index_begin:index_end]\n",
    "            if (label_seg != 0).any() and is_select:\n",
    "                if (label_seg[:FS] != 0 ).any():\n",
    "                    index_begin = index_begin - FS\n",
    "                elif (label_seg[-FS:] != 0 ).any():\n",
    "                    index_begin = index_begin + FS\n",
    "                else:\n",
    "                    pass\n",
    "                index_end = index_begin + len_seg\n",
    "                \n",
    "                ecg_data_split.append(ecg_data[index_begin:index_end].tolist())\n",
    "                ecg_label_split.append(label_new[index_begin:index_end].tolist())\n",
    "            elif i%2==0 and is_select:\n",
    "                ecg_data_split.append(ecg_data[index_begin:index_end].tolist())\n",
    "                ecg_label_split.append(label_new[index_begin:index_end].tolist())\n",
    "            elif is_select==0:\n",
    "                ecg_data_split.append(ecg_data[index_begin:index_end].tolist())\n",
    "                ecg_label_split.append(label_new[index_begin:index_end].tolist())\n",
    "            \n",
    "        ecg_data_split = np.array(ecg_data_split)\n",
    "        ecg_label_split = np.array(ecg_label_split)\n",
    "        print(\"ecg data :\",ecg_data_split.shape)\n",
    "        print(\"ecg label :\",ecg_label_split.shape)\n",
    "        \n",
    "#         ecg_data_split = []\n",
    "        \n",
    "#         for i in tqdm(range(int(ecg_data.shape[0]/len_seg))):\n",
    "#             ecg_data_split.append(ecg_data[i*len_seg:(i+1)*len_seg].tolist())\n",
    "#         ecg_data_split = np.array(ecg_data_split)\n",
    "        \n",
    "#         ecg_label_split = []\n",
    "        \n",
    "#         label_new = np.array(label_new)\n",
    "#         for i in tqdm(range(int(label_new.shape[0]/len_seg))):\n",
    "#             ecg_label_split.append(label_new[i*len_seg:(i+1)*len_seg].tolist())\n",
    "#         ecg_label_split = np.array(ecg_label_split)\n",
    "\n",
    "        # 保存分段后数据\n",
    "        #ecg_data_mat, label_new_mat = resave_data(ecg_data, label_new, dataid, is_select)\n",
    "        \n",
    "        if (ecg_data_split.shape[0] >0):\n",
    "            if data is None:\n",
    "                data  = ecg_data_split   \n",
    "                label = ecg_label_split \n",
    "            else:\n",
    "                data  = np.vstack((data, ecg_data_split))\n",
    "                label = np.vstack((label, ecg_label_split))\n",
    "    \n",
    "    try:\n",
    "        data = getSigArr(data.T).T\n",
    "    except:\n",
    "        pass\n",
    "    \n",
    "    return data, label"
   ]
  },
  {
   "cell_type": "code",
   "execution_count": 10,
   "metadata": {},
   "outputs": [],
   "source": [
    "# data_train, label_train = load_ans(True,0)"
   ]
  },
  {
   "cell_type": "code",
   "execution_count": 11,
   "metadata": {},
   "outputs": [],
   "source": [
    "s_ref = sio.loadmat('../TrainingSet/ref/R02.mat')['ref']['S_ref'][0, 0].squeeze()\n",
    "v_ref = sio.loadmat('../TrainingSet/ref/R02.mat')['ref']['V_ref'][0, 0].squeeze()\n",
    "#标签下采样\n",
    "s_ref = (s_ref*CONST).astype(int)\n",
    "v_ref = (v_ref*CONST).astype(int)"
   ]
  },
  {
   "cell_type": "code",
   "execution_count": 12,
   "metadata": {},
   "outputs": [
    {
     "data": {
      "text/plain": [
       "array([     327,      492,      811, ..., 16405079, 16411794, 16417841])"
      ]
     },
     "execution_count": 12,
     "metadata": {},
     "output_type": "execute_result"
    }
   ],
   "source": [
    "v_ref"
   ]
  },
  {
   "cell_type": "code",
   "execution_count": 13,
   "metadata": {},
   "outputs": [
    {
     "data": {
      "text/plain": [
       "array([  703483,   730236,   761800,   767713,   768061,   847109,\n",
       "         899529,  1288823,  1352921,  1427801,  1438165,  1536301,\n",
       "        1650469, 15422981, 16146726])"
      ]
     },
     "execution_count": 13,
     "metadata": {},
     "output_type": "execute_result"
    }
   ],
   "source": [
    "s_ref"
   ]
  },
  {
   "cell_type": "code",
   "execution_count": 14,
   "metadata": {},
   "outputs": [
    {
     "data": {
      "text/plain": [
       "array([8095, 8096, 8098, 8099, 8100, 8104, 8104, 8114, 8115, 8118, 8118,\n",
       "       8119, 8121, 8122, 8124, 8125, 8125, 8127, 8129, 8130, 8130, 8132,\n",
       "       8136, 8141, 8145, 8146, 8146, 8147, 8149, 8150, 8151, 8153, 8155,\n",
       "       8156, 8161, 8161, 8161, 8162, 8164, 8166, 8168, 8169, 8169, 8194,\n",
       "       8194, 8196, 8199, 8202, 8205, 8208])"
      ]
     },
     "execution_count": 14,
     "metadata": {},
     "output_type": "execute_result"
    }
   ],
   "source": [
    "(v_ref/len_seg).astype(int)[-50:]"
   ]
  },
  {
   "cell_type": "code",
   "execution_count": null,
   "metadata": {},
   "outputs": [],
   "source": []
  },
  {
   "cell_type": "markdown",
   "metadata": {
    "nbpresent": {
     "id": "da2afbf0-f886-4e2d-abf9-ec4ab586af9f"
    }
   },
   "source": [
    "## 加载训练数据"
   ]
  },
  {
   "cell_type": "code",
   "execution_count": 15,
   "metadata": {
    "nbpresent": {
     "id": "595a7dbb-90d4-4484-b868-955c91fdaca0"
    }
   },
   "outputs": [
    {
     "name": "stdout",
     "output_type": "stream",
     "text": [
      "../TrainingSet/data/A01.mat\n",
      "A01\n"
     ]
    },
    {
     "name": "stderr",
     "output_type": "stream",
     "text": [
      "100%|██████████| 9318/9318 [00:00<00:00, 24209.00it/s]\n"
     ]
    },
    {
     "name": "stdout",
     "output_type": "stream",
     "text": [
      "ecg data : (4674, 2000)\n",
      "ecg label : (4674, 2000)\n",
      "../TrainingSet/data/A02.mat\n",
      "A02\n"
     ]
    },
    {
     "name": "stderr",
     "output_type": "stream",
     "text": [
      "100%|██████████| 8218/8218 [00:00<00:00, 16248.10it/s]\n"
     ]
    },
    {
     "name": "stdout",
     "output_type": "stream",
     "text": [
      "ecg data : (5541, 2000)\n",
      "ecg label : (5541, 2000)\n",
      "../TrainingSet/data/A03.mat\n",
      "A03\n"
     ]
    },
    {
     "name": "stderr",
     "output_type": "stream",
     "text": [
      "100%|██████████| 8892/8892 [00:00<00:00, 24080.68it/s]\n"
     ]
    },
    {
     "name": "stdout",
     "output_type": "stream",
     "text": [
      "ecg data : (4674, 2000)\n",
      "ecg label : (4674, 2000)\n",
      "../TrainingSet/data/A04.mat\n",
      "A04\n"
     ]
    },
    {
     "name": "stderr",
     "output_type": "stream",
     "text": [
      "100%|██████████| 8825/8825 [00:00<00:00, 13013.67it/s]\n"
     ]
    },
    {
     "name": "stdout",
     "output_type": "stream",
     "text": [
      "ecg data : (8057, 2000)\n",
      "ecg label : (8057, 2000)\n",
      "../TrainingSet/data/A05.mat\n",
      "A05\n"
     ]
    },
    {
     "name": "stderr",
     "output_type": "stream",
     "text": [
      " 34%|███▍      | 2865/8486 [00:00<00:00, 28641.90it/s]"
     ]
    },
    {
     "name": "stdout",
     "output_type": "stream",
     "text": [
      "TypeError\n"
     ]
    },
    {
     "name": "stderr",
     "output_type": "stream",
     "text": [
      "100%|██████████| 8486/8486 [00:00<00:00, 22491.23it/s]\n"
     ]
    },
    {
     "name": "stdout",
     "output_type": "stream",
     "text": [
      "ecg data : (4251, 2000)\n",
      "ecg label : (4251, 2000)\n",
      "../TrainingSet/data/A06.mat\n",
      "A06\n"
     ]
    },
    {
     "name": "stderr",
     "output_type": "stream",
     "text": [
      "100%|██████████| 8851/8851 [00:00<00:00, 22301.51it/s]\n"
     ]
    },
    {
     "name": "stdout",
     "output_type": "stream",
     "text": [
      "ecg data : (4431, 2000)\n",
      "ecg label : (4431, 2000)\n",
      "../TrainingSet/data/A07.mat\n",
      "A07\n"
     ]
    },
    {
     "name": "stderr",
     "output_type": "stream",
     "text": [
      "100%|██████████| 8319/8319 [00:00<00:00, 15249.32it/s]\n"
     ]
    },
    {
     "name": "stdout",
     "output_type": "stream",
     "text": [
      "ecg data : (7059, 2000)\n",
      "ecg label : (7059, 2000)\n",
      "../TrainingSet/data/A10.mat\n",
      "A10\n"
     ]
    },
    {
     "name": "stderr",
     "output_type": "stream",
     "text": [
      "100%|██████████| 8511/8511 [00:00<00:00, 14654.32it/s]\n"
     ]
    },
    {
     "name": "stdout",
     "output_type": "stream",
     "text": [
      "ecg data : (6373, 2000)\n",
      "ecg label : (6373, 2000)\n"
     ]
    }
   ],
   "source": [
    "data_train, label_train = load_ans(is_load_train = 1, is_select = 1)"
   ]
  },
  {
   "cell_type": "code",
   "execution_count": 16,
   "metadata": {},
   "outputs": [
    {
     "data": {
      "text/plain": [
       "((45060, 2000), (45060, 2000))"
      ]
     },
     "execution_count": 16,
     "metadata": {},
     "output_type": "execute_result"
    }
   ],
   "source": [
    "data_train.shape,label_train.shape"
   ]
  },
  {
   "cell_type": "code",
   "execution_count": 17,
   "metadata": {},
   "outputs": [
    {
     "data": {
      "image/png": "[encoded data removed]",
      "text/plain": [
       "<Figure size 1440x432 with 1 Axes>"
      ]
     },
     "metadata": {},
     "output_type": "display_data"
    }
   ],
   "source": [
    "from matplotlib import pyplot as plt \n",
    "import wfdb.processing as wp\n",
    "%matplotlib inline\n",
    "plt.rcParams['figure.figsize'] = (20.0, 6.0) # 设置figure_size尺寸\n",
    "plt.rcParams['image.interpolation'] = 'nearest' # 设置 interpolation style\n",
    "\n",
    "plt.title(\"ECG\") \n",
    "plt.xlabel(\"x axis caption\") \n",
    "plt.ylabel(\"y axis caption\") \n",
    "# plt.scatter(qrs_inds, ecg[qrs_inds], marker='o', c='g',s=50)\n",
    "# plt.scatter(ecg_ref,  ecg[ecg_ref]+1, marker='^', c='r',s=50)\n",
    "plt.plot(data_train[6071]) \n",
    "plt.plot(label_train[6071]) \n",
    "plt.ylim(-1,2)\n",
    "plt.show()"
   ]
  },
  {
   "cell_type": "code",
   "execution_count": 18,
   "metadata": {},
   "outputs": [
    {
     "name": "stdout",
     "output_type": "stream",
     "text": [
      "../TrainingSet/data/A08.mat\n",
      "A08\n"
     ]
    },
    {
     "name": "stderr",
     "output_type": "stream",
     "text": [
      "100%|██████████| 9166/9166 [00:00<00:00, 12884.42it/s]\n"
     ]
    },
    {
     "name": "stdout",
     "output_type": "stream",
     "text": [
      "ecg data : (9166, 2000)\n",
      "ecg label : (9166, 2000)\n",
      "../TrainingSet/data/A09.mat\n",
      "A09\n"
     ]
    },
    {
     "name": "stderr",
     "output_type": "stream",
     "text": [
      "100%|██████████| 9302/9302 [00:00<00:00, 13995.19it/s]\n"
     ]
    },
    {
     "name": "stdout",
     "output_type": "stream",
     "text": [
      "ecg data : (9302, 2000)\n",
      "ecg label : (9302, 2000)\n"
     ]
    }
   ],
   "source": [
    "data_test, label_test = load_ans(False,0)"
   ]
  },
  {
   "cell_type": "code",
   "execution_count": 19,
   "metadata": {},
   "outputs": [
    {
     "data": {
      "text/plain": [
       "(18468, 2000)"
      ]
     },
     "execution_count": 19,
     "metadata": {},
     "output_type": "execute_result"
    }
   ],
   "source": [
    "label_test.shape"
   ]
  },
  {
   "cell_type": "code",
   "execution_count": 20,
   "metadata": {},
   "outputs": [],
   "source": [
    "x_test = np.expand_dims(data_test, axis=2)\n",
    "y_test = np.expand_dims(label_test, axis=2)"
   ]
  },
  {
   "cell_type": "code",
   "execution_count": 21,
   "metadata": {
    "nbpresent": {
     "id": "7b42a19e-8cac-49ce-918a-fcbb8ce1c2b7"
    }
   },
   "outputs": [
    {
     "data": {
      "text/plain": [
       "(array([ 4674,  4674,  4674, ..., 44971, 44971, 44971]),\n",
       " array([ 303,  304,  305, ..., 1338, 1339, 1340]),\n",
       " array([0, 0, 0, ..., 0, 0, 0]))"
      ]
     },
     "execution_count": 21,
     "metadata": {},
     "output_type": "execute_result"
    }
   ],
   "source": [
    "# x, y = data_train, label_train\n",
    "x_train = np.expand_dims(data_train, axis=2)\n",
    "y_train = np.expand_dims(label_train, axis=2)\n",
    "np.where(y_train==np.array([2]))"
   ]
  },
  {
   "cell_type": "code",
   "execution_count": 22,
   "metadata": {},
   "outputs": [
    {
     "data": {
      "text/plain": [
       "(45060, 2000, 1)"
      ]
     },
     "execution_count": 22,
     "metadata": {},
     "output_type": "execute_result"
    }
   ],
   "source": [
    "x_train.shape"
   ]
  },
  {
   "cell_type": "code",
   "execution_count": 23,
   "metadata": {
    "nbpresent": {
     "id": "9244dcc5-a8c9-4fbe-8334-1ed250a68536"
    }
   },
   "outputs": [],
   "source": [
    "# np.save(\"train_data_bandpass_norm_200.npy\", x_train)\n",
    "# np.save(\"train_target_bandpass_norm_200.npy\", y_train)"
   ]
  },
  {
   "cell_type": "markdown",
   "metadata": {
    "nbpresent": {
     "id": "ec4ce04f-b15f-4ba3-bc42-aece5f7c2bbd"
    }
   },
   "source": [
    "## 加载测试数据"
   ]
  },
  {
   "cell_type": "code",
   "execution_count": 24,
   "metadata": {
    "nbpresent": {
     "id": "f7430d08-2769-41e9-8432-b0a44b2a5912"
    },
    "scrolled": true
   },
   "outputs": [],
   "source": [
    "# data_test, label_test = load_ans(is_load_train = 0, is_select = 0)"
   ]
  },
  {
   "cell_type": "code",
   "execution_count": 25,
   "metadata": {
    "nbpresent": {
     "id": "89e84957-3701-4be2-a6ae-ebfc04b8154a"
    }
   },
   "outputs": [],
   "source": [
    "# label_test_tmp = np.sum(label_test, axis = 1)\n",
    "# ind_test = np.nonzero(label_test_tmp)"
   ]
  },
  {
   "cell_type": "code",
   "execution_count": 26,
   "metadata": {
    "nbpresent": {
     "id": "5aef3bad-73f6-401d-b2c1-7c3ddfd68a22"
    }
   },
   "outputs": [],
   "source": [
    "# #x, y = reLabel(data_test[ind_test], label_test[ind_test], 1)     //对所有QRS波进行标记\n",
    "# x, y = data_test[ind_test], label_test[ind_test]            "
   ]
  },
  {
   "cell_type": "code",
   "execution_count": 27,
   "metadata": {
    "nbpresent": {
     "id": "95f40727-3e9a-405f-bef0-28aa95076174"
    }
   },
   "outputs": [],
   "source": [
    "# x, y = data_test, label_test\n",
    "# x_test = np.expand_dims(x, axis=2)\n",
    "# y_test = np.expand_dims(y, axis=2)"
   ]
  },
  {
   "cell_type": "code",
   "execution_count": 28,
   "metadata": {
    "nbpresent": {
     "id": "4883d582-6268-4444-ad64-a95d4b892f31"
    }
   },
   "outputs": [],
   "source": [
    "# np.save(\"test_data_bandpass_norm_200.npy\", x_test)\n",
    "# np.save(\"test_target_bandpass_norm_200.npy\", y_test)"
   ]
  },
  {
   "cell_type": "markdown",
   "metadata": {
    "nbpresent": {
     "id": "388b8751-297b-4caf-9b9d-06906fb4bf02"
    }
   },
   "source": [
    "# 加载数据"
   ]
  },
  {
   "cell_type": "code",
   "execution_count": 29,
   "metadata": {
    "nbpresent": {
     "id": "86141b9a-e845-4fc1-b32f-97091b705840"
    }
   },
   "outputs": [],
   "source": [
    "# x_train_ori = np.load(\"train_data_ori_norm_200.npy\")\n",
    "# y_train_ori = np.load(\"train_target_ori_norm_200.npy\")"
   ]
  },
  {
   "cell_type": "code",
   "execution_count": 30,
   "metadata": {
    "nbpresent": {
     "id": "6955e0c1-f5d8-42dd-ad16-e5f4f2644919"
    }
   },
   "outputs": [],
   "source": [
    "# x_test_ori = np.load(\"test_data_ori_norm_200.npy\")\n",
    "# y_test_ori = np.load(\"test_target_ori_norm_200.npy\")"
   ]
  },
  {
   "cell_type": "code",
   "execution_count": 31,
   "metadata": {
    "nbpresent": {
     "id": "cbc38cc8-38e9-4a67-b5b0-c6398f87993d"
    }
   },
   "outputs": [],
   "source": [
    "# x_train_median = np.load(\"train_data_median_norm_200.npy\")\n",
    "# y_train_median = np.load(\"train_target_median_norm_200.npy\")"
   ]
  },
  {
   "cell_type": "code",
   "execution_count": 32,
   "metadata": {
    "nbpresent": {
     "id": "0d34d79c-5118-4814-a24e-d77d09de54c5"
    }
   },
   "outputs": [],
   "source": [
    "# x_test_median = np.load(\"test_data_median_norm_200.npy\")\n",
    "# y_test_median = np.load(\"test_target_median_norm_200.npy\")"
   ]
  },
  {
   "cell_type": "code",
   "execution_count": 33,
   "metadata": {
    "nbpresent": {
     "id": "789761e8-b3ed-4e9a-9eb7-8a7e67c183b3"
    }
   },
   "outputs": [],
   "source": [
    "# x_train =  np.vstack((x_train_ori, x_train_median))\n",
    "# y_train =  np.vstack((y_train_ori, y_train_median))"
   ]
  },
  {
   "cell_type": "code",
   "execution_count": 34,
   "metadata": {
    "nbpresent": {
     "id": "682c2720-6be7-49a7-9177-b495e2901b4b"
    }
   },
   "outputs": [],
   "source": [
    "# x_test =  np.vstack((x_test_ori, x_test_median))\n",
    "# y_test =  np.vstack((y_test_ori, y_test_median))"
   ]
  },
  {
   "cell_type": "code",
   "execution_count": 35,
   "metadata": {
    "nbpresent": {
     "id": "9c5f3c53-fc5f-4af1-b473-6bfdacf5fe9e"
    }
   },
   "outputs": [],
   "source": [
    "#1010\n",
    "# x_train =  x_train_median\n",
    "# y_train =  y_train_median"
   ]
  },
  {
   "cell_type": "code",
   "execution_count": 36,
   "metadata": {
    "nbpresent": {
     "id": "b1181266-f6d7-4564-a1e3-edd8956b701e"
    }
   },
   "outputs": [],
   "source": [
    "#1010\n",
    "# x_test = x_test_median\n",
    "# y_test = y_test_median"
   ]
  },
  {
   "cell_type": "code",
   "execution_count": 37,
   "metadata": {
    "nbpresent": {
     "id": "c616aeec-bedf-40e0-9df2-bfa8443e439c"
    }
   },
   "outputs": [],
   "source": [
    "nClasses = 3\n",
    "target_train = y_train"
   ]
  },
  {
   "cell_type": "code",
   "execution_count": 38,
   "metadata": {
    "nbpresent": {
     "id": "5bf927e2-f4cb-43f8-bced-0ee2f9c12ac8"
    }
   },
   "outputs": [],
   "source": [
    "target_train = to_categorical(y_train, num_classes=nClasses)\n",
    "# target_test = to_categorical(y_test, num_classes=nClasses)"
   ]
  },
  {
   "cell_type": "code",
   "execution_count": 39,
   "metadata": {},
   "outputs": [],
   "source": [
    "m=np.argmax(target_train, axis = 2)   "
   ]
  },
  {
   "cell_type": "code",
   "execution_count": 40,
   "metadata": {},
   "outputs": [
    {
     "data": {
      "text/plain": [
       "(45060, 2000)"
      ]
     },
     "execution_count": 40,
     "metadata": {},
     "output_type": "execute_result"
    }
   ],
   "source": [
    "m.shape"
   ]
  },
  {
   "cell_type": "code",
   "execution_count": 41,
   "metadata": {
    "nbpresent": {
     "id": "9932ac9c-1c92-498e-baa8-b2f12ef222d8"
    },
    "scrolled": true
   },
   "outputs": [
    {
     "data": {
      "text/plain": [
       "<function matplotlib.pyplot.show(*args, **kw)>"
      ]
     },
     "execution_count": 41,
     "metadata": {},
     "output_type": "execute_result"
    },
    {
     "data": {
      "image/png": "[encoded data removed]",
      "text/plain": [
       "<Figure size 1080x360 with 1 Axes>"
      ]
     },
     "metadata": {},
     "output_type": "display_data"
    }
   ],
   "source": [
    "ind = 1986\n",
    "\n",
    "plt.figure(figsize=(15,5))\n",
    "plt.plot(x_train[ind])\n",
    "# plt.plot(y_train[ind])\n",
    "plt.plot(m[ind])\n",
    "plt.xlim(0,len_seg)\n",
    "plt.ylim(-0.5,2.5)\n",
    "plt.show"
   ]
  },
  {
   "cell_type": "markdown",
   "metadata": {
    "nbpresent": {
     "id": "acea9843-d4e9-4387-8e00-e3ae17119e16"
    }
   },
   "source": [
    "# 开始训练"
   ]
  },
  {
   "cell_type": "code",
   "execution_count": 42,
   "metadata": {
    "nbpresent": {
     "id": "c7bd861c-7bf4-4de1-8b96-c6b4a521dd31"
    }
   },
   "outputs": [],
   "source": [
    "def get_session(gpu_fraction=0.8):\n",
    "    #allocate % of gpu memory.\n",
    "    num_threads = os.environ.get('OMP_NUM_THREADS')\n",
    "    gpu_options = tf.GPUOptions(per_process_gpu_memory_fraction=gpu_fraction)\n",
    "    if num_threads:\n",
    "        return tf.Session(config=tf.ConfigProto(gpu_options=gpu_options, intra_op_parallelism_threads=num_threads))\n",
    "    else:\n",
    "        return tf.Session(config=tf.ConfigProto(gpu_options=gpu_options))"
   ]
  },
  {
   "cell_type": "code",
   "execution_count": 43,
   "metadata": {
    "nbpresent": {
     "id": "e121134d-9ba2-4d13-a42b-785e0ef5bc85"
    }
   },
   "outputs": [],
   "source": [
    "from keras import backend as K\n",
    "def recall(y_true, y_pred):\n",
    "    \"\"\"Recall metric.\n",
    "    Only computes a batch-wise average of recall.\n",
    "    Computes the recall, a metric for multi-label classification of\n",
    "    how many relevant items are selected.\n",
    "    \"\"\"\n",
    "    true_positives = K.sum(K.round(K.clip(y_true * y_pred, 0, 1)))\n",
    "    possible_positives = K.sum(K.round(K.clip(y_true, 0, 1)))\n",
    "    recall = true_positives / (possible_positives + K.epsilon())\n",
    "    return recall\n",
    "\n",
    "def precision(y_true, y_pred):\n",
    "    \"\"\"Precision metric.\n",
    "    Only computes a batch-wise average of precision.\n",
    "    Computes the precision, a metric for multi-label classification of\n",
    "    how many selected items are relevant.\n",
    "    \"\"\"\n",
    "    true_positives = K.sum(K.round(K.clip(y_true * y_pred, 0, 1)))\n",
    "    predicted_positives = K.sum(K.round(K.clip(y_pred, 0, 1)))\n",
    "    precision = true_positives / (predicted_positives + K.epsilon())\n",
    "    return precision\n",
    "    \n",
    "def f1(y_true, y_pred):\n",
    "    precisionVal = precision(y_true, y_pred)\n",
    "    recallVal = recall(y_true, y_pred)\n",
    "    return 2*((precisionVal*recallVal)/(precisionVal+recallVal+K.epsilon()))\n",
    "\n",
    "def auc(y_true, y_pred):\n",
    "    auc = tf.metrics.auc(y_true, y_pred)[1]\n",
    "    K.get_session().run(tf.local_variables_initializer())\n",
    "    return auc"
   ]
  },
  {
   "cell_type": "code",
   "execution_count": 44,
   "metadata": {
    "nbpresent": {
     "id": "0a2e72bb-fb18-4fd9-97b2-0318ca5b5571"
    }
   },
   "outputs": [],
   "source": [
    "#写一个LossHistory类，保存loss和acc  \n",
    "class LossHistory(keras.callbacks.Callback):  \n",
    "    def on_train_begin(self, logs={}):  \n",
    "        self.losses = {'batch':[], 'epoch':[]}  \n",
    "        self.accuracy = {'batch':[], 'epoch':[]}  \n",
    "        self.val_loss = {'batch':[], 'epoch':[]}  \n",
    "        self.val_acc = {'batch':[], 'epoch':[]}  \n",
    "\n",
    "    def on_batch_end(self, batch, logs={}):  \n",
    "        self.losses['batch'].append(logs.get('loss'))  \n",
    "        self.accuracy['batch'].append(logs.get('acc'))  \n",
    "        self.val_loss['batch'].append(logs.get('val_loss'))  \n",
    "        self.val_acc['batch'].append(logs.get('val_acc'))  \n",
    "\n",
    "    def on_epoch_end(self, batch, logs={}):  \n",
    "        self.losses['epoch'].append(logs.get('loss'))  \n",
    "        self.accuracy['epoch'].append(logs.get('acc'))  \n",
    "        self.val_loss['epoch'].append(logs.get('val_loss'))  \n",
    "        self.val_acc['epoch'].append(logs.get('val_acc'))  \n",
    "\n",
    "    def loss_plot(self, loss_type):  \n",
    "        iters = range(len(self.losses[loss_type]))  \n",
    "        plt.figure()  \n",
    "        # acc  \n",
    "        plt.plot(iters, self.accuracy[loss_type], 'r', label='train acc')  \n",
    "        # loss  \n",
    "        plt.plot(iters, self.losses[loss_type], 'g', label='train loss')  \n",
    "        if loss_type == 'epoch':  \n",
    "            # val_acc  \n",
    "            plt.plot(iters, self.val_acc[loss_type], 'b', label='val acc')  \n",
    "#             val_loss  \n",
    "            plt.plot(iters, self.val_loss[loss_type], 'k', label='val loss')  \n",
    "        plt.grid(True)  \n",
    "        plt.xlabel(loss_type)  \n",
    "        plt.ylabel('acc-loss')  \n",
    "        plt.legend(loc=\"upper right\")  \n",
    "        plt.show()  "
   ]
  },
  {
   "cell_type": "code",
   "execution_count": 45,
   "metadata": {
    "nbpresent": {
     "id": "87860ebf-1e3f-41fd-abce-be8ce5fa0d57"
    }
   },
   "outputs": [],
   "source": [
    "from keras.models import Model\n",
    "from keras.layers import Input, core, Dropout, concatenate, CuDNNGRU\n",
    "from keras.layers.convolutional import Conv1D, MaxPooling1D, UpSampling1D\n",
    "from keras.optimizers import RMSprop\n",
    "from keras.optimizers import Adam\n",
    "from keras_radam import RAdam\n",
    "from keras.models import Model\n",
    "from keras.layers import Input, core, Dropout, concatenate\n",
    "from keras.layers.convolutional import Conv1D, MaxPooling1D, UpSampling1D\n",
    "from keras.optimizers import RMSprop\n",
    "from keras.optimizers import Adam"
   ]
  },
  {
   "cell_type": "markdown",
   "metadata": {},
   "source": [
    "## Attention_unet"
   ]
  },
  {
   "cell_type": "markdown",
   "metadata": {},
   "source": [
    "## resnext Unet"
   ]
  },
  {
   "cell_type": "code",
   "execution_count": 46,
   "metadata": {
    "nbpresent": {
     "id": "cb555e86-2e0e-4f45-a820-978523494000"
    }
   },
   "outputs": [],
   "source": [
    "from keras.models import Model, load_model\n",
    "from keras.layers import Input,Dropout,BatchNormalization,Activation,Add,core\n",
    "from keras.layers.convolutional import Conv1D, MaxPooling1D, UpSampling1D, AveragePooling1D\n",
    "from keras.layers.merge import concatenate\n",
    "from keras.models import Model\n",
    "from keras.layers.core import Dense, Lambda\n",
    "from keras.layers.core import Activation\n",
    "from keras.layers import Input\n",
    "from keras.layers.merge import concatenate, add\n",
    "from keras.layers.normalization import BatchNormalization\n",
    "from keras.regularizers import l2\n",
    "import keras.backend as K\n",
    "from keras.layers import LeakyReLU\n",
    "ACTIVATION = \"relu\"\n",
    "def __grouped_convolution_block(blockInput, grouped_channels, cardinality, strides, weight_decay=5e-4):\n",
    "    ''' Adds a grouped convolution block. It is an equivalent block from the paper\n",
    "    Args:\n",
    "        input: input tensor\n",
    "        grouped_channels: grouped number of filters\n",
    "        cardinality: cardinality factor describing the number of groups\n",
    "        strides: performs strided convolution for downscaling if > 1\n",
    "        weight_decay: weight decay term\n",
    "    Returns: a keras tensor\n",
    "    '''\n",
    "    init = blockInput\n",
    "    group_list = []\n",
    "    \n",
    "    if cardinality == 1:\n",
    "        # with cardinality 1, it is a standard convolution\n",
    "        x = Conv1D(grouped_channels, 16, padding='same', use_bias=False, strides=(strides),\n",
    "                   kernel_initializer='he_normal', kernel_regularizer=l2(weight_decay))(init)\n",
    "        x = BatchNormalization()(x)\n",
    "        x = Activation('relu')(x)\n",
    "        return x\n",
    "\n",
    "    for c in range(cardinality):\n",
    "#         x = Lambda(lambda z: z[:, :, :, c * grouped_channels:(c + 1) * grouped_channels]\n",
    "#         if K.image_data_format() == 'channels_last' else\n",
    "#         lambda z: z[:, c * grouped_channels:(c + 1) * grouped_channels, :, :])(input)\n",
    "        x =  Lambda(lambda z: z[:, :, c * grouped_channels:(c + 1) * grouped_channels])(blockInput)\n",
    "    \n",
    "        x = Conv1D(grouped_channels, 16, padding='same', use_bias=False, strides=(strides),\n",
    "                   kernel_initializer='he_normal', kernel_regularizer=l2(weight_decay))(x)\n",
    "\n",
    "        group_list.append(x)\n",
    "\n",
    "    group_merge = concatenate(group_list)#axis=channel_axis\n",
    "    x = BatchNormalization()(group_merge)\n",
    "    x = Activation('relu')(x)\n",
    "\n",
    "    return x\n",
    "\n",
    "def resnext_bottleneck_block(blockInput, filters=64, cardinality=8, strides=1, weight_decay=5e-4):\n",
    "    ''' Adds a bottleneck block\n",
    "    Args:\n",
    "        input: input tensor\n",
    "        filters: number of output filters\n",
    "        cardinality: cardinality factor described number of\n",
    "            grouped convolutions\n",
    "        strides: performs strided convolution for downsampling if > 1\n",
    "        weight_decay: weight decay factor\n",
    "    Returns: a keras tensor\n",
    "    '''\n",
    "    init = blockInput\n",
    "\n",
    "    grouped_channels = int(filters / cardinality)\n",
    "#     channel_axis = 1 if K.image_data_format() == 'channels_first' else -1\n",
    "\n",
    "#     # Check if input number of filters is same as 16 * k, else create convolution2d for this input\n",
    "#     if K.image_data_format() == 'channels_first':\n",
    "#         if init._keras_shape[1] != 2 * filters:\n",
    "#             init = Conv2D(filters * 2, (1, 1), padding='same', strides=(strides, strides),\n",
    "#                           use_bias=False, kernel_initializer='he_normal', kernel_regularizer=l2(weight_decay))(init)\n",
    "#             init = BatchNormalization(axis=channel_axis)(init)\n",
    "#     else:\n",
    "#         if init._keras_shape[-1] != 2 * filters:\n",
    "#             init = Conv2D(filters * 2, (1, 1), padding='same', strides=(strides, strides),\n",
    "#                           use_bias=False, kernel_initializer='he_normal', kernel_regularizer=l2(weight_decay))(init)\n",
    "#             init = BatchNormalization(axis=channel_axis)(init)\n",
    "\n",
    "    init = Conv1D(filters * 2, 1, padding='same', strides=(strides),\n",
    "                  use_bias=False, kernel_initializer='he_normal', kernel_regularizer=l2(weight_decay))(init)\n",
    "    init = BatchNormalization()(init)\n",
    "    \n",
    "    x = Conv1D(filters, 1, padding='same', use_bias=False,\n",
    "               kernel_initializer='he_normal', kernel_regularizer=l2(weight_decay))(blockInput)\n",
    "    x = BatchNormalization()(x)\n",
    "    x = Activation('relu')(x)\n",
    "\n",
    "    x = __grouped_convolution_block(x, grouped_channels, cardinality, strides, weight_decay)\n",
    "\n",
    "    x = Conv1D(filters * 2, 1, padding='same', use_bias=False, kernel_initializer='he_normal',\n",
    "               kernel_regularizer=l2(weight_decay))(x)\n",
    "    x = BatchNormalization()(x)\n",
    "\n",
    "    x = add([init, x])\n",
    "    x = Activation('relu')(x)\n",
    "\n",
    "    return x\n",
    "\n",
    "def convolution_block(x, filters, filter_size, strides=1, padding='same', activation=True):\n",
    "    x = Conv1D(filters, filter_size, strides=strides, padding=padding)(x)\n",
    "    x = BatchNormalization()(x)\n",
    "    if activation == True:\n",
    "        x = Activation(ACTIVATION)(x)\n",
    "    return x\n",
    "\n",
    "def residual_block(blockInput, num_filters=16):\n",
    "    x = Activation(ACTIVATION)(blockInput)\n",
    "    x = BatchNormalization()(x)\n",
    "    x = convolution_block(x, num_filters, 16 )\n",
    "    x = convolution_block(x, num_filters, 16, activation=False)\n",
    "    x = Add()([x, blockInput])\n",
    "    return x\n",
    "\n",
    "def bottleneck(blockInput, num_filters=16, block=\"resnet\"):\n",
    "    if block == \"resnet\":\n",
    "        conv = residual_block(blockInput,num_filters)\n",
    "        conv = residual_block(blockInput,num_filters)\n",
    "    elif block == \"resnext\":\n",
    "        conv = resnext_bottleneck_block(blockInput,num_filters)\n",
    "    return conv\n",
    "\n",
    "def headneck(blockInput, num_neurons=2, block=\"resnet\"):\n",
    "    conv = []\n",
    "    conv.append(Conv1D(num_neurons, 3, activation=None, padding=\"same\")(blockInput))\n",
    "    conv.append(Conv1D(num_neurons, 5, activation=None, padding=\"same\")(blockInput))\n",
    "    conv.append(Conv1D(num_neurons, 7, activation=None, padding=\"same\")(blockInput))\n",
    "    conv.append(Conv1D(num_neurons, 11, activation=None, padding=\"same\")(blockInput))\n",
    "    conv.append(Conv1D(num_neurons, 15, activation=None, padding=\"same\")(blockInput))\n",
    "    con_conv = concatenate(conv)\n",
    "    \n",
    "    return con_conv\n",
    "\n",
    "# Build model\n",
    "def build_model(input_layer, start_neurons, block=\"resnet\", DropoutRatio = 0.5,filter_size=32, nClasses=2):\n",
    "    # 101 -> 50\n",
    "    conv1 = Conv1D(start_neurons * 1, filter_size, activation=None, padding=\"same\")(input_layer)\n",
    "    \n",
    "    conv1 = bottleneck(conv1,start_neurons * 1, block)\n",
    "    \n",
    "    conv1 = Activation(ACTIVATION)(conv1)\n",
    "    pool1 = MaxPooling1D((2))(conv1)\n",
    "    pool1 = Dropout(DropoutRatio/2)(pool1)\n",
    "\n",
    "    # 50 -> 25\n",
    "    conv2 = Conv1D(start_neurons * 2, filter_size, activation=None, padding=\"same\")(pool1)\n",
    "    \n",
    "    conv2 = bottleneck(conv2,start_neurons * 2, block)\n",
    "    \n",
    "    conv2 = Activation(ACTIVATION)(conv2)\n",
    "    pool2 = MaxPooling1D((2))(conv2)\n",
    "    pool2 = Dropout(DropoutRatio)(pool2)\n",
    "\n",
    "    # 25 -> 12\n",
    "    conv3 = Conv1D(start_neurons * 4, filter_size, activation=None, padding=\"same\")(pool2)\n",
    "\n",
    "    conv3 = bottleneck(conv3,start_neurons * 4, block)\n",
    "    \n",
    "    conv3 = Activation(ACTIVATION)(conv3)\n",
    "    pool3 = MaxPooling1D((2))(conv3)\n",
    "    pool3 = Dropout(DropoutRatio)(pool3)\n",
    "\n",
    "    # 12 -> 6\n",
    "    conv4 = Conv1D(start_neurons * 8, filter_size, activation=None, padding=\"same\")(pool3)\n",
    "#     conv4 = residual_block(conv4,start_neurons * 8)\n",
    "#     conv4 = residual_block(conv4,start_neurons * 8)\n",
    "    conv4 = bottleneck(conv4,start_neurons * 8, block)\n",
    "    \n",
    "    conv4 = Activation(ACTIVATION)(conv4)\n",
    "    pool4 = MaxPooling1D((2))(conv4)\n",
    "    pool4 = Dropout(DropoutRatio)(pool4)\n",
    "\n",
    "    # Middle\n",
    "    convm = Conv1D(start_neurons * 16, filter_size, activation=None, padding=\"same\")(pool4)\n",
    "#     convm = residual_block(convm,start_neurons * 16)\n",
    "#     convm = residual_block(convm,start_neurons * 16)\n",
    "    convm = bottleneck(convm,start_neurons * 16, block)\n",
    "    \n",
    "    convm = Activation(ACTIVATION)(convm)\n",
    "    \n",
    "    # 6 -> 12\n",
    "    #deconv4 = Conv2DTranspose(start_neurons * 8, (3, 3), strides=(2, 2), padding=\"same\")(convm)\n",
    "    deconv4 = Conv1D(start_neurons * 8, filter_size,activation='relu', padding='same'\n",
    "                     )(UpSampling1D(size=2)(convm))#kernel_initializer='he_normal'\n",
    "    \n",
    "    uconv4 = concatenate([deconv4, conv4])\n",
    "    uconv4 = Dropout(DropoutRatio)(uconv4)\n",
    "    \n",
    "    uconv4 = Conv1D(start_neurons * 8, filter_size, activation=None, padding=\"same\")(uconv4)\n",
    "#     uconv4 = residual_block(uconv4,start_neurons * 8)\n",
    "#     uconv4 = residual_block(uconv4,start_neurons * 8)\n",
    "    uconv4 = bottleneck(uconv4,start_neurons * 8, block)\n",
    "    \n",
    "    uconv4 = Activation(ACTIVATION)(uconv4)\n",
    "    \n",
    "    # 12 -> 25\n",
    "    #deconv3 = Conv2DTranspose(start_neurons * 4, (3, 3), strides=(2, 2), padding=\"same\")(uconv4)\n",
    "    #deconv3 = Conv2DTranspose(start_neurons * 4, (3, 3), strides=(2, 2), padding=\"valid\")(uconv4)\n",
    "    deconv3 = Conv1D(start_neurons * 4, filter_size, activation='relu', padding='same',\n",
    "                     )(UpSampling1D(size=2)(uconv4))#kernel_initializer='he_normal'\n",
    "    uconv3 = concatenate([deconv3, conv3])    \n",
    "    uconv3 = Dropout(DropoutRatio)(uconv3)\n",
    "    \n",
    "    uconv3 = Conv1D(start_neurons * 4, filter_size, activation=None, padding=\"same\")(uconv3)\n",
    "#     uconv3 = residual_block(uconv3,start_neurons * 4)\n",
    "#     uconv3 = residual_block(uconv3,start_neurons * 4)\n",
    "    uconv3 = bottleneck(uconv3,start_neurons * 4, block)\n",
    "\n",
    "    uconv3 = Activation(ACTIVATION)(uconv3)\n",
    "\n",
    "    # 25 -> 50\n",
    "    #deconv2 = Conv2DTranspose(start_neurons * 2, (3, 3), strides=(2, 2), padding=\"same\")(uconv3)\n",
    "    deconv2 = Conv1D(start_neurons * 2, filter_size, activation='relu', padding='same',\n",
    "                     )(UpSampling1D(size=2)(uconv3))#kernel_initializer='he_normal'\n",
    "    uconv2 = concatenate([deconv2, conv2])\n",
    "        \n",
    "    uconv2 = Dropout(DropoutRatio)(uconv2)\n",
    "    uconv2 = Conv1D(start_neurons * 2, filter_size, activation=None, padding=\"same\")(uconv2)\n",
    "#     uconv2 = residual_block(uconv2,start_neurons * 2)\n",
    "#     uconv2 = residual_block(uconv2,start_neurons * 2)\n",
    "    uconv2 = bottleneck(uconv2,start_neurons * 2, block)\n",
    "\n",
    "    uconv2 = Activation(ACTIVATION)(uconv2)\n",
    "    \n",
    "    # 50 -> 101\n",
    "    #deconv1 = Conv2DTranspose(start_neurons * 1, (3, 3), strides=(2, 2), padding=\"same\")(uconv2)\n",
    "    #deconv1 = Conv2DTranspose(start_neurons * 1, (3, 3), strides=(2, 2), padding=\"valid\")(uconv2)\n",
    "    deconv1 = Conv1D(start_neurons * 1, filter_size, activation='relu', padding='same',\n",
    "                     )(UpSampling1D(size=2)(uconv2))#kernel_initializer='he_normal'\n",
    "    uconv1 = concatenate([deconv1, conv1])\n",
    "    \n",
    "    uconv1 = Dropout(DropoutRatio)(uconv1)\n",
    "    uconv1 = Conv1D(start_neurons * 1, filter_size, activation=None, padding=\"same\")(uconv1)\n",
    "#     uconv1 = residual_block(uconv1,start_neurons * 1)\n",
    "#     uconv1 = residual_block(uconv1,start_neurons * 1)\n",
    "    uconv1 = bottleneck(uconv1,start_neurons * 1, block)\n",
    "    \n",
    "    uconv1 = Activation(ACTIVATION)(uconv1)\n",
    "    \n",
    "    uconv1 = Dropout(DropoutRatio/2)(uconv1)\n",
    "    #output_layer = Conv1D(1, 1, padding=\"same\", activation=\"sigmoid\")(uconv1)\n",
    "    output_layer = Conv1D(nClasses, 1, activation='relu', padding='same')(uconv1)#kernel_initializer='he_normal'\n",
    "    #output_layer = core.Reshape((nClasses, input_length))(output_layer)\n",
    "    #output_layer = core.Permute((2, 1))(output_layer)\n",
    "    output_layer = core.Activation('softmax')(output_layer)\n",
    "    #model = Model(inputs=inputs, outputs=conv9)\n",
    "    \n",
    "    return output_layer"
   ]
  },
  {
   "cell_type": "markdown",
   "metadata": {},
   "source": [
    "## Unet"
   ]
  },
  {
   "cell_type": "code",
   "execution_count": 47,
   "metadata": {
    "nbpresent": {
     "id": "bf0e8666-9838-47a2-870b-aedbe50ddf3c"
    }
   },
   "outputs": [],
   "source": [
    "# Unet\n",
    "def Unet(nClasses, optimizer=None, input_length=len_ecg, nChannels=1):\n",
    "    inputs = Input((input_length, nChannels))\n",
    "\n",
    "    conv1 = Conv1D(16, 32, activation='relu', padding='same', kernel_initializer='he_normal')(inputs)\n",
    "    conv1 = Conv1D(16, 32, activation='relu', padding='same', kernel_initializer='he_normal')(conv1)\n",
    "    pool1 = MaxPooling1D(pool_size=2)(conv1)\n",
    "\n",
    "    conv2 = Conv1D(32, 32, activation='relu', padding='same', kernel_initializer='he_normal')(pool1)\n",
    "    conv2 = Dropout(0.2)(conv2)\n",
    "    conv2 = Conv1D(32, 32, activation='relu', padding='same', kernel_initializer='he_normal')(conv2)\n",
    "    pool2 = MaxPooling1D(pool_size=2)(conv2)\n",
    "    \n",
    "    conv3 = Conv1D(64, 32, activation='relu', padding='same', kernel_initializer='he_normal')(pool2)\n",
    "    conv3 = Conv1D(64, 32, activation='relu', padding='same', kernel_initializer='he_normal')(conv3)\n",
    "    pool3 = MaxPooling1D(pool_size=2)(conv3)\n",
    "\n",
    "    conv4 = Conv1D(128, 32, activation='relu', padding='same', kernel_initializer='he_normal')(pool3)\n",
    "    conv4 = Dropout(0.5)(conv4)\n",
    "    conv4 = Conv1D(128, 32, activation='relu', padding='same', kernel_initializer='he_normal')(conv4)\n",
    "\n",
    "    up1 = Conv1D(64, 2, activation='relu', padding='same', kernel_initializer='he_normal')(UpSampling1D(size=2)(conv4))\n",
    "    merge1 = concatenate([up1, conv3], axis=-1)\n",
    "    conv5 = Conv1D(64, 32, activation='relu', padding='same', kernel_initializer='he_normal')(merge1)\n",
    "    conv5 = Conv1D(64, 32, activation='relu', padding='same', kernel_initializer='he_normal')(conv5)\n",
    "    \n",
    "    up2 = Conv1D(32, 2, activation='relu', padding='same', kernel_initializer = 'he_normal')(UpSampling1D(size=2)(conv5))\n",
    "    merge2 = concatenate([up2, conv2], axis=-1)\n",
    "    conv6 = Conv1D(32, 32, activation='relu', padding='same', kernel_initializer = 'he_normal')(merge2)\n",
    "    conv6 = Dropout(0.2)(conv6)\n",
    "    conv6 = Conv1D(32, 32, activation='relu', padding='same')(conv6)\n",
    "    \n",
    "    up3 = Conv1D(16, 2, activation='relu', padding='same', kernel_initializer='he_normal')(UpSampling1D(size=2)(conv6))\n",
    "    merge3 = concatenate([up3, conv1], axis=-1)\n",
    "    conv7 = Conv1D(16, 32, activation='relu', padding='same', kernel_initializer='he_normal')(merge3)\n",
    "    conv7 = Conv1D(16, 32, activation='relu', padding='same', kernel_initializer='he_normal')(conv7)\n",
    "    \n",
    "    x = Bidirectional(CuDNNGRU(32,return_sequences=True))(conv7)\n",
    "    x = Dropout(0.2)(x)\n",
    "\n",
    "    conv9 = Conv1D(1, 1, activation='sigmoid', kernel_initializer = 'he_normal', padding='same')(x)\n",
    "\n",
    "    model = Model(inputs=inputs, outputs=conv9)\n",
    "\n",
    "    return model"
   ]
  },
  {
   "cell_type": "markdown",
   "metadata": {},
   "source": [
    "## NestUnet"
   ]
  },
  {
   "cell_type": "code",
   "execution_count": 48,
   "metadata": {
    "nbpresent": {
     "id": "baab8314-dd8f-44d1-b845-406f49fba0a4"
    },
    "scrolled": false
   },
   "outputs": [],
   "source": [
    "# NestUnet\n",
    "from keras.layers import LeakyReLU\n",
    "deep_supervision = 0\n",
    "debug = 0\n",
    "\n",
    "nb_filter = [16,32,64,128,256]\n",
    "\n",
    "act = \"relu\"\n",
    "\n",
    "def cov_layer(x, filter_num, dropout,filter_size = 32, batch_norm=True):\n",
    "    conv = Conv1D(filter_num, filter_size, padding='same', kernel_initializer='he_normal')(x)\n",
    "    \n",
    "    if batch_norm:\n",
    "        conv = BatchNormalization()(conv)\n",
    "        \n",
    "    conv = Activation(act)(conv)    \n",
    "    conv = Dropout(dropout)(conv)\n",
    "        \n",
    "    conv = Conv1D(filter_num, filter_size, padding='same', kernel_initializer='he_normal')(conv)\n",
    "    \n",
    "    if batch_norm:\n",
    "        conv = BatchNormalization()(conv)\n",
    "        \n",
    "    conv = Activation(act)(conv)    \n",
    "    conv = Dropout(dropout)(conv)\n",
    "    \n",
    "    res_conv = conv\n",
    "    return res_conv\n",
    "\n",
    "def NestUnet(nClasses, optimizer=None, input_length=len_ecg, filter_size = 32, nChannels=1):\n",
    "    \n",
    "    inputs = Input((input_length, nChannels))\n",
    "    \n",
    "    conv1_1 = cov_layer(inputs, nb_filter[0], 0)\n",
    "    pool1 = MaxPooling1D(pool_size=2)(conv1_1)\n",
    "    \n",
    "    conv2_1 = cov_layer(pool1, nb_filter[1], 0.2)\n",
    "    pool2 = MaxPooling1D(pool_size=2)(conv2_1)\n",
    "    \n",
    "    up1_2 = Conv1D(nb_filter[0], filter_size, padding='same')(UpSampling1D(size=2)(conv2_1))\n",
    "    conv1_2 = concatenate([up1_2, conv1_1], axis=-1)\n",
    "    conv1_2 = cov_layer(conv1_2, nb_filter[0], 0)\n",
    "    \n",
    "    conv3_1 = cov_layer(pool2, nb_filter[2], 0)\n",
    "    pool3 = MaxPooling1D(pool_size=2)(conv3_1)\n",
    "\n",
    "    up2_2 = Conv1D(nb_filter[1], filter_size, padding='same')(UpSampling1D(size=2)(conv3_1))\n",
    "    conv2_2 = concatenate([up2_2, conv2_1], axis=-1)\n",
    "    conv2_2 = cov_layer(conv2_2, nb_filter[1], 0.2)\n",
    "    \n",
    "    up1_3 = Conv1D(nb_filter[0], filter_size, padding='same')(UpSampling1D(size=2)(conv2_2))\n",
    "    conv1_3 = concatenate([up1_3, conv1_1, conv1_2], axis=-1)\n",
    "    conv1_3 = cov_layer(conv1_3, nb_filter[0], 0)\n",
    "    \n",
    "    conv4_1 = cov_layer(pool3, nb_filter[3], 0)\n",
    "    pool4 = MaxPooling1D(pool_size=2)(conv4_1)\n",
    "    \n",
    "    up3_2 = Conv1D(nb_filter[2], filter_size, padding='same')(UpSampling1D(size=2)(conv4_1))\n",
    "    conv3_2 = concatenate([up3_2, conv3_1], axis=-1)\n",
    "    conv3_2 = cov_layer(conv3_2, nb_filter[2], 0)\n",
    "    \n",
    "    up2_3 = Conv1D(nb_filter[1], filter_size, padding='same')(UpSampling1D(size=2)(conv3_2))\n",
    "    conv2_3 = concatenate([up2_3, conv2_1, conv2_2], axis=-1)\n",
    "    conv2_3 = cov_layer(conv2_3, nb_filter[1], 0.2)\n",
    "    \n",
    "    up1_4 = Conv1D(nb_filter[0], filter_size, padding='same')(UpSampling1D(size=2)(conv2_3))\n",
    "    conv1_4 = concatenate([up1_4, conv1_1, conv1_2, conv1_3], axis=-1)\n",
    "    conv1_4 = cov_layer(conv1_4, nb_filter[0], 0)\n",
    "    \n",
    "    conv5_1 = cov_layer(pool4, nb_filter[4], 0)               #20200417修改：nb_filter[3]\n",
    "    \n",
    "    up4_2 = Conv1D(nb_filter[3], filter_size, padding='same')(UpSampling1D(size=2)(conv5_1))\n",
    "    conv4_2 = concatenate([up4_2, conv4_1], axis=-1)\n",
    "    conv4_2 = cov_layer(conv4_2, nb_filter[3], 0)\n",
    "    \n",
    "    up3_3 = Conv1D(nb_filter[2], filter_size, padding='same')(UpSampling1D(size=2)(conv4_2))\n",
    "    conv3_3 = concatenate([up3_3, conv3_1, conv3_2], axis=-1)\n",
    "    conv3_3 = cov_layer(conv3_3, nb_filter[2], 0.2)\n",
    "    \n",
    "    up2_4 = Conv1D(nb_filter[1], filter_size, padding='same')(UpSampling1D(size=2)(conv3_3))\n",
    "    conv2_4 = concatenate([up2_4, conv2_1, conv2_2, conv2_3], axis=-1)\n",
    "    conv2_4 = cov_layer(conv2_4, nb_filter[1], 0)\n",
    "    \n",
    "    up1_5 = Conv1D(nb_filter[0], filter_size, padding='same')(UpSampling1D(size=2)(conv2_4))\n",
    "    conv1_5 = concatenate([up1_5, conv1_1, conv1_2, conv1_3, conv1_4], axis=-1)\n",
    "    conv1_5 = cov_layer(conv1_5, nb_filter[0], 0)\n",
    "    \n",
    "#     x = Bidirectional(CuDNNGRU(32,return_sequences=True))(conv1_5)\n",
    "#     x = Dropout(0.2)(x)\n",
    "  \n",
    "    if deep_supervision:\n",
    "        nestnet_output_1 = Conv1D(1, 1, activation='sigmoid', kernel_initializer = 'he_normal', padding='same')(conv1_2)\n",
    "        nestnet_output_2 = Conv1D(1, 1, activation='sigmoid', kernel_initializer = 'he_normal', padding='same')(conv1_3)\n",
    "        nestnet_output_3 = Conv1D(1, 1, activation='sigmoid', kernel_initializer = 'he_normal', padding='same')(conv1_4)\n",
    "        nestnet_output_4 = Conv1D(1, 1, activation='sigmoid', kernel_initializer = 'he_normal', padding='same')(conv1_5)\n",
    "    \n",
    "        model = Model(input=inputs, output=[nestnet_output_1,\n",
    "                                            nestnet_output_2,\n",
    "                                            nestnet_output_3,\n",
    "                                            nestnet_output_4])\n",
    "    else:    \n",
    "#         nestnet_output = Conv1D(1, 1, activation='sigmoid', kernel_initializer = 'he_normal', padding='same')(conv1_5)\n",
    "#         model = Model(input=inputs, output=nestnet_output)\n",
    "        \n",
    "        conv6 = Conv1D(nClasses, 1, activation='relu', kernel_initializer = 'he_normal', padding='same')(conv1_5)\n",
    "        #conv6 = core.Reshape((nClasses, input_length))(conv6)\n",
    "        #conv6 = core.Permute((2, 1))(conv6)\n",
    "        \n",
    "        nestnet_output = core.Activation('softmax')(conv6)  #sigmoid\n",
    "        \n",
    "        model = Model(input=inputs, output=nestnet_output)\n",
    "        \n",
    "    return model\n",
    "# model = NestUnet(3)\n",
    "# model.summary()"
   ]
  },
  {
   "cell_type": "code",
   "execution_count": 49,
   "metadata": {
    "nbpresent": {
     "id": "a8dca4fc-aa03-4bae-9ab6-c0698bc4fc91"
    }
   },
   "outputs": [],
   "source": [
    "# Custom loss function\n",
    "# def dice_coef(y_true, y_pred):\n",
    "#     smooth = 1.\n",
    "#     y_true_f = K.flatten(y_true)\n",
    "#     y_pred_f = K.flatten(y_pred)\n",
    "#     intersection = K.sum(y_true_f * y_pred_f)\n",
    "    \n",
    "# #     return (2. * intersection + smooth) / (K.sum(y_true_f) + K.sum(y_pred_f) + smooth)\n",
    "#     return (2. * intersection + smooth) / (K.sum(y_true_f * y_true_f) + K.sum(y_pred_f * y_pred_f) + smooth)\n",
    "\n",
    "# def dice_coef_loss(y_true, y_pred):\n",
    "#     return 1. - dice_coef(y_true, y_pred)\n",
    "\n",
    "# def bce_dice_loss(y_true, y_pred):\n",
    "#     return 0.5 * keras.losses.binary_crossentropy(y_true, y_pred) - dice_coef(y_true, y_pred)\n",
    "\n",
    "def dice_coef_loss(y_true, y_pred):\n",
    "    axis_to_reduce = [1,2]#range(1, K.ndim(y_pred))  # Reduce all axis but first (batch)\n",
    "    numerator = y_true * y_pred #* class_weights  # Broadcasting\n",
    "    numerator = 2. * K.sum(numerator, axis=axis_to_reduce)\n",
    "\n",
    "    denominator = (y_true + y_pred) #* class_weights # Broadcasting\n",
    "    denominator = K.sum(denominator, axis=axis_to_reduce)\n",
    "\n",
    "    return 1 - numerator / denominator\n",
    "\n",
    "def ce_dice_loss(y_true, y_pred):\n",
    "    return  keras.losses.categorical_crossentropy(y_true, y_pred) + dice_coef_loss(y_true, y_pred)"
   ]
  },
  {
   "cell_type": "code",
   "execution_count": 50,
   "metadata": {
    "nbpresent": {
     "id": "12624384-372d-4467-a501-5cc45d33d671"
    }
   },
   "outputs": [],
   "source": [
    "epsilon = 1e-5\n",
    "smooth = 1\n",
    "def tversky(y_true, y_pred):\n",
    "    y_true_pos = K.flatten(y_true)\n",
    "    y_pred_pos = K.flatten(y_pred)\n",
    "    true_pos = K.sum(y_true_pos * y_pred_pos)\n",
    "    false_neg = K.sum(y_true_pos * (1-y_pred_pos))\n",
    "    false_pos = K.sum((1-y_true_pos)*y_pred_pos)\n",
    "    alpha = 0.7\n",
    "    return (true_pos + smooth)/(true_pos + alpha*false_neg + (1-alpha)*false_pos + smooth)\n",
    "\n",
    "def tversky_loss(y_true, y_pred):\n",
    "    return 1 - tversky(y_true,y_pred)\n",
    "\n",
    "def focal_tversky(y_true,y_pred):\n",
    "    pt_1 = tversky(y_true, y_pred)\n",
    "    gamma = 0.75\n",
    "    \n",
    "    return K.pow((1-pt_1), gamma)"
   ]
  },
  {
   "cell_type": "code",
   "execution_count": 51,
   "metadata": {
    "nbpresent": {
     "id": "3fdd0616-aeab-42f7-a2d3-1cd334217cbe"
    }
   },
   "outputs": [],
   "source": [
    "from keras import backend as K\n",
    "'''\n",
    "Compatible with tensorflow backend\n",
    "'''\n",
    "def focal_loss(gamma=2., alpha=.25):\n",
    "    def focal_loss_fixed(y_true, y_pred):\n",
    "        pt_1 = tf.where(tf.equal(y_true, 1), y_pred, tf.ones_like(y_pred))\n",
    "        pt_0 = tf.where(tf.equal(y_true, 0), y_pred, tf.zeros_like(y_pred))\n",
    "        return -K.sum(alpha * K.pow(1. - pt_1, gamma) * K.log(pt_1))-K.sum((1-alpha) * K.pow( pt_0, gamma) * K.log(1. - pt_0))\n",
    "    return focal_loss_fixed"
   ]
  },
  {
   "cell_type": "code",
   "execution_count": 52,
   "metadata": {
    "nbpresent": {
     "id": "3d129b1d-9a40-4390-95b4-94ec1d443649"
    }
   },
   "outputs": [],
   "source": [
    "from keras.losses import categorical_crossentropy\n",
    " \n",
    "def generalized_dice(y_true, y_pred):\n",
    "    \n",
    "    \"\"\"\n",
    "    Generalized Dice Score\n",
    "    https://arxiv.org/pdf/1707.03237\n",
    "    \n",
    "    \"\"\"\n",
    "    y_true    = K.reshape(y_true,shape=(-1,4))\n",
    "    y_pred    = K.reshape(y_pred,shape=(-1,4))\n",
    "    sum_p     = K.sum(y_pred, -2)\n",
    "    sum_r     = K.sum(y_true, -2)\n",
    "    sum_pr    = K.sum(y_true * y_pred, -2)\n",
    "    weights   = K.pow(K.square(sum_r) + K.epsilon(), -1)\n",
    "    generalized_dice = (2 * K.sum(weights * sum_pr)) / (K.sum(weights * (sum_r + sum_p)))\n",
    "    \n",
    "    return generalized_dice\n",
    " \n",
    "def generalized_dice_loss(y_true, y_pred):   \n",
    "    return 1-generalized_dice(y_true, y_pred)\n",
    "    \n",
    "    \n",
    "def custom_loss(y_true, y_pred):\n",
    "    \n",
    "    \"\"\"\n",
    "    The final loss function consists of the summation of two losses \"GDL\" and \"CE\"\n",
    "    with a regularization term.\n",
    "    \"\"\"\n",
    "    \n",
    "    return generalized_dice_loss(y_true, y_pred) + 1.25 * categorical_crossentropy(y_true, y_pred)"
   ]
  },
  {
   "cell_type": "code",
   "execution_count": 53,
   "metadata": {
    "nbpresent": {
     "id": "00ed840b-5450-466c-b28d-a36ae620bc4f"
    }
   },
   "outputs": [],
   "source": [
    "def IoU(y_true, y_pred, eps=1e-6):\n",
    "    if np.max(y_true) == 0.0:\n",
    "        return IoU(1-y_true, 1-y_pred) ## empty image; calc IoU of zeros\n",
    "    intersection = K.sum(y_true * y_pred, axis=[1,2,3])\n",
    "    union = K.sum(y_true, axis=[1,2,3]) + K.sum(y_pred, axis=[1,2,3]) - intersection\n",
    "    return -K.mean( (intersection + eps) / (union + eps), axis=0)"
   ]
  },
  {
   "cell_type": "code",
   "execution_count": 54,
   "metadata": {
    "nbpresent": {
     "id": "11153c38-1c4c-445a-b64f-49ec79fa2e0b"
    }
   },
   "outputs": [],
   "source": [
    "def scheduler1(epoch):\n",
    "    lr = 0.01\n",
    "    if epoch >= 20 and epoch < 40:\n",
    "        lr = 0.001\n",
    "    if epoch >= 40:\n",
    "        lr = 0.0001\n",
    "    print('Learning rate: ', lr)\n",
    "    return lr\n",
    "\n",
    "# def scheduler2(epoch):\n",
    "#     # 每隔10个epoch，学习率减小为原来的1/10     if epoch % 10 == 0 and epoch != 0:\n",
    "#         lr = K.get_value(model.optimizer.lr)\n",
    "#         K.set_value(model.optimizer.lr, lr * 0.1)\n",
    "#         print(\"lr changed to {}\".format(lr * 0.1))\n",
    "#     return K.get_value(model.optimizer.lr)\n",
    "\n",
    "def scheduler3(epoch):\n",
    "    # 训练网络时学习率衰减方案\n",
    "    lr = 0.0001\n",
    "    if epoch >= 50:\n",
    "        lr = 0.00001\n",
    "    print('Learning rate: ', lr)\n",
    "    return lr_schedule\n"
   ]
  },
  {
   "cell_type": "code",
   "execution_count": 55,
   "metadata": {
    "nbpresent": {
     "id": "fd54b7bc-1ad5-4b46-90c1-4c7588d82165"
    }
   },
   "outputs": [],
   "source": [
    "import time\n",
    "import shutil\n",
    "time_ori = time.strftime('%Y-%m-%d %X').split(\" \")[0]\n",
    "def save_epoch(epoch, types):\n",
    "    if ((epoch%10==0)):   \n",
    "        shutil.copyfile('{}_deepsupervision_model_weights_{}.h5'.format(types, time_ori),\n",
    "                        '{}_deepsupervision_model_weights_{}_epoch{}.h5'.format(types,time_ori,epoch))"
   ]
  },
  {
   "cell_type": "code",
   "execution_count": 56,
   "metadata": {},
   "outputs": [],
   "source": [
    "import tensorflow as tf\n",
    "os.environ[\"CUDA_VISIBLE_DEVICES\"] = '0'   #指定第一块GPU可用\n",
    "config = tf.ConfigProto()\n",
    "config.gpu_options.per_process_gpu_memory_fraction = 0.8  # 程序最多只能占用指定gpu50%的显存\n",
    "config.gpu_options.allow_growth = True      #程序按需申请内存\n",
    "sess = tf.Session(config = config)\n",
    "# 设置session\n",
    "KTF.set_session(sess)\n",
    "\n",
    "\n"
   ]
  },
  {
   "cell_type": "code",
   "execution_count": 57,
   "metadata": {
    "nbpresent": {
     "id": "b6860592-25a4-453a-b03a-d3d183b3b523"
    }
   },
   "outputs": [
    {
     "name": "stdout",
     "output_type": "stream",
     "text": [
      "WARNING:tensorflow:From /home/yangshan/.local/lib/python3.6/site-packages/tensorflow/python/framework/op_def_library.py:263: colocate_with (from tensorflow.python.framework.ops) is deprecated and will be removed in a future version.\n",
      "Instructions for updating:\n",
      "Colocations handled automatically by placer.\n",
      "WARNING:tensorflow:From /home/yangshan/.local/lib/python3.6/site-packages/keras/backend/tensorflow_backend.py:3445: calling dropout (from tensorflow.python.ops.nn_ops) with keep_prob is deprecated and will be removed in a future version.\n",
      "Instructions for updating:\n",
      "Please use `rate` instead of `keep_prob`. Rate should be set to `rate = 1 - keep_prob`.\n",
      "WARNING:tensorflow:From /home/yangshan/.local/lib/python3.6/site-packages/tensorflow/python/ops/metrics_impl.py:526: to_float (from tensorflow.python.ops.math_ops) is deprecated and will be removed in a future version.\n",
      "Instructions for updating:\n",
      "Use tf.cast instead.\n",
      "WARNING:tensorflow:From /home/yangshan/.local/lib/python3.6/site-packages/tensorflow/python/ops/metrics_impl.py:788: div (from tensorflow.python.ops.math_ops) is deprecated and will be removed in a future version.\n",
      "Instructions for updating:\n",
      "Deprecated in favor of operator or tf.math.divide.\n",
      "WARNING:tensorflow:From /home/yangshan/.local/lib/python3.6/site-packages/tensorflow/python/ops/math_ops.py:3066: to_int32 (from tensorflow.python.ops.math_ops) is deprecated and will be removed in a future version.\n",
      "Instructions for updating:\n",
      "Use tf.cast instead.\n",
      "Train on 40554 samples, validate on 4506 samples\n",
      "Epoch 1/10\n",
      " - 139s - loss: 0.7081 - acc: 0.9023 - auc: 0.8117 - f1: 0.7359 - val_loss: 0.5364 - val_acc: 0.9830 - val_auc: 0.9532 - val_f1: 0.9559\n",
      "\n",
      "Epoch 00001: val_loss improved from inf to 0.53644, saving model to unetplus_deepsupervision_model_weights_2020-10-19.h5\n",
      "Epoch 2/10\n",
      " - 122s - loss: 0.4826 - acc: 0.9936 - auc: 0.9735 - f1: 0.9767 - val_loss: 0.3994 - val_acc: 0.9918 - val_auc: 0.9843 - val_f1: 0.9899\n",
      "\n",
      "Epoch 00002: val_loss improved from 0.53644 to 0.39939, saving model to unetplus_deepsupervision_model_weights_2020-10-19.h5\n",
      "Epoch 3/10\n",
      " - 122s - loss: 0.3646 - acc: 0.9960 - auc: 0.9887 - f1: 0.9949 - val_loss: 0.3136 - val_acc: 0.9950 - val_auc: 0.9917 - val_f1: 0.9948\n",
      "\n",
      "Epoch 00003: val_loss improved from 0.39939 to 0.31362, saving model to unetplus_deepsupervision_model_weights_2020-10-19.h5\n",
      "Epoch 4/10\n",
      " - 122s - loss: 0.2660 - acc: 0.9969 - auc: 0.9934 - f1: 0.9968 - val_loss: 0.2410 - val_acc: 0.9948 - val_auc: 0.9946 - val_f1: 0.9947\n",
      "\n",
      "Epoch 00004: val_loss improved from 0.31362 to 0.24104, saving model to unetplus_deepsupervision_model_weights_2020-10-19.h5\n",
      "Epoch 5/10\n",
      " - 122s - loss: 0.1890 - acc: 0.9973 - auc: 0.9954 - f1: 0.9973 - val_loss: 0.1690 - val_acc: 0.9949 - val_auc: 0.9960 - val_f1: 0.9949\n",
      "\n",
      "Epoch 00005: val_loss improved from 0.24104 to 0.16903, saving model to unetplus_deepsupervision_model_weights_2020-10-19.h5\n",
      "Epoch 6/10\n",
      " - 123s - loss: 0.1329 - acc: 0.9976 - auc: 0.9965 - f1: 0.9976 - val_loss: 0.1085 - val_acc: 0.9963 - val_auc: 0.9969 - val_f1: 0.9963\n",
      "\n",
      "Epoch 00006: val_loss improved from 0.16903 to 0.10853, saving model to unetplus_deepsupervision_model_weights_2020-10-19.h5\n",
      "Epoch 7/10\n",
      " - 123s - loss: 0.0935 - acc: 0.9978 - auc: 0.9972 - f1: 0.9978 - val_loss: 0.0781 - val_acc: 0.9974 - val_auc: 0.9974 - val_f1: 0.9974\n",
      "\n",
      "Epoch 00007: val_loss improved from 0.10853 to 0.07814, saving model to unetplus_deepsupervision_model_weights_2020-10-19.h5\n",
      "Epoch 8/10\n",
      " - 123s - loss: 0.0662 - acc: 0.9980 - auc: 0.9976 - f1: 0.9980 - val_loss: 0.0601 - val_acc: 0.9966 - val_auc: 0.9978 - val_f1: 0.9966\n",
      "\n",
      "Epoch 00008: val_loss improved from 0.07814 to 0.06005, saving model to unetplus_deepsupervision_model_weights_2020-10-19.h5\n",
      "Epoch 9/10\n",
      " - 123s - loss: 0.0446 - acc: 0.9981 - auc: 0.9979 - f1: 0.9981 - val_loss: 0.0384 - val_acc: 0.9974 - val_auc: 0.9981 - val_f1: 0.9974\n",
      "\n",
      "Epoch 00009: val_loss improved from 0.06005 to 0.03844, saving model to unetplus_deepsupervision_model_weights_2020-10-19.h5\n",
      "Epoch 10/10\n",
      " - 123s - loss: 0.0306 - acc: 0.9982 - auc: 0.9982 - f1: 0.9982 - val_loss: 0.0268 - val_acc: 0.9974 - val_auc: 0.9983 - val_f1: 0.9974\n",
      "\n",
      "Epoch 00010: val_loss improved from 0.03844 to 0.02679, saving model to unetplus_deepsupervision_model_weights_2020-10-19.h5\n"
     ]
    },
    {
     "data": {
      "image/png": "[encoded data removed]",
      "text/plain": [
       "<Figure size 1440x432 with 1 Axes>"
      ]
     },
     "metadata": {},
     "output_type": "display_data"
    }
   ],
   "source": [
    "from keras.losses import categorical_crossentropy\n",
    "# from keras_lookahead import Lookahead\n",
    "from keras.callbacks import LearningRateScheduler\n",
    "from keras.models import model_from_yaml\n",
    "\n",
    "M = 3 # number of snapshots\n",
    "nb_epoch = T = 180 # number of epochs\n",
    "alpha_zero = 0.0001 # initial learning rate\n",
    "\n",
    "np.random.seed(0)\n",
    "\n",
    "epoch_print_callback = keras.callbacks.LambdaCallback(\n",
    "    on_epoch_end =lambda epoch,logs: save_epoch(epoch,\"unetplus\") )\n",
    "\n",
    "checkpoint = ModelCheckpoint(filepath='{}_deepsupervision_model_weights_{}.h5'.format('unetplus', time.strftime('%Y-%m-%d %X').split(\" \")[0]),\n",
    "                                 monitor= 'val_loss', mode='min', verbose=1,\n",
    "                                 save_best_only='True',save_weights_only='True')\n",
    "\n",
    "earlystop = EarlyStopping(\n",
    "            monitor='val_loss',\n",
    "            mode='min',\n",
    "            patience=5\n",
    "          )\n",
    "\n",
    "reducelr = ReduceLROnPlateau(monitor='val_loss', factor=0.5, verbose=1,\n",
    "                             patience=3, min_lr=0.000001)\n",
    "\n",
    "# reduce_lr = LearningRateScheduler(scheduler3)\n",
    "\n",
    "#创建一个实例history\n",
    "history = LossHistory()\n",
    "\n",
    "callback_lists = [earlystop, checkpoint, history, reducelr, epoch_print_callback]\n",
    "\n",
    "model = NestUnet(3)\n",
    "# model = Attention_unet()\n",
    "\n",
    "# yaml_string = model.to_yaml()\n",
    "# model = model_from_yaml(yaml_string)\n",
    "\n",
    "# input_length = len_ecg\n",
    "# input_layer = Input((input_length, 1))\n",
    "# output_layer = build_model(input_layer=input_layer,block=\"resnext\",start_neurons=16, DropoutRatio=0.5, filter_size=32, nClasses=3)\n",
    "# model = Model(input_layer, output_layer)\n",
    "\n",
    "model.compile(loss=categorical_crossentropy,# ,#custom_loss,#  # bce_dice_loss, binary_crossentropy, categorical_crossentropy，mse\n",
    "              optimizer=RAdam(0.0001),  # RAdam,'mse'，Lookahead(RAdam(lr=0.0001)),bce_dice_loss，focal_tversky\n",
    "              metrics=['accuracy', auc, f1])  # mse、categorical_crossentropy\n",
    "\n",
    "if deep_supervision:\n",
    "    model.fit(x_train, [y_train,y_train,y_train, y_train],\n",
    "          epochs=100, batch_size=64, verbose=2,\n",
    "          callbacks= callback_lists\n",
    "         )\n",
    "else:\n",
    "    model.fit(x_train, target_train,\n",
    "          validation_split=0.1, \n",
    "          epochs=10, batch_size=64, verbose=2,\n",
    "          callbacks= callback_lists\n",
    "         )\n",
    "history.loss_plot('epoch')"
   ]
  },
  {
   "cell_type": "code",
   "execution_count": 58,
   "metadata": {},
   "outputs": [
    {
     "data": {
      "text/plain": [
       "'1.13.1'"
      ]
     },
     "execution_count": 58,
     "metadata": {},
     "output_type": "execute_result"
    }
   ],
   "source": [
    "tf.__version__"
   ]
  },
  {
   "cell_type": "code",
   "execution_count": 87,
   "metadata": {
    "nbpresent": {
     "id": "0325e781-6a30-409d-85de-876dd963ca4b"
    }
   },
   "outputs": [],
   "source": [
    "# 保存模型\n",
    "yaml_string = model.to_yaml()\n",
    "fname_model = 'resnet_model.yaml'\n",
    "with open(fname_model, \"w\") as f:\n",
    "    f.write(yaml_string) "
   ]
  },
  {
   "cell_type": "code",
   "execution_count": 35,
   "metadata": {
    "nbpresent": {
     "id": "3d0d5cec-b2e4-41bf-826c-c456a33efb64"
    }
   },
   "outputs": [],
   "source": [
    "# 保存权重\n",
    "# fname_model_weigths = 'model_weights_{}.h5'.format(time.strftime('%Y-%m-%d %H-%M-%S'))\n",
    "# model.save_weights(fname_model_weigths)"
   ]
  },
  {
   "cell_type": "markdown",
   "metadata": {
    "nbpresent": {
     "id": "4ee1b23e-9d59-407d-9c8a-47f642ea3fcb"
    }
   },
   "source": [
    "# 预测"
   ]
  },
  {
   "cell_type": "code",
   "execution_count": 36,
   "metadata": {
    "collapsed": true,
    "nbpresent": {
     "id": "fc50af77-c756-43a5-ab62-55994da38282"
    }
   },
   "outputs": [],
   "source": [
    "# x_test = x_train\n",
    "# y_test = y_train"
   ]
  },
  {
   "cell_type": "code",
   "execution_count": 100,
   "metadata": {
    "nbpresent": {
     "id": "5957ca23-b2fc-42d1-a4ec-f1be0a1ad4eb"
    }
   },
   "outputs": [],
   "source": [
    "#从yaml中读出模型\n",
    "from keras.models import model_from_yaml\n",
    "fname_model = 'model.yaml'\n",
    "yaml_file = open(fname_model, 'r')\n",
    "loaded_model_yaml = yaml_file.read()\n",
    "yaml_file.close()\n",
    "model = model_from_yaml(loaded_model_yaml)\n",
    "\n",
    "# 加载模型权重\n",
    "fname_model_weigths = 'unetplus_deepsupervision_model_weights_2020-10-12.h5'\n",
    "model.load_weights(fname_model_weigths)"
   ]
  },
  {
   "cell_type": "code",
   "execution_count": 59,
   "metadata": {
    "nbpresent": {
     "id": "ec6eebb5-7089-4e1b-887d-4822984adcd3"
    }
   },
   "outputs": [],
   "source": [
    "pred_test_all = model.predict(x_test)"
   ]
  },
  {
   "cell_type": "code",
   "execution_count": 60,
   "metadata": {
    "nbpresent": {
     "id": "1f954c58-9438-4ae6-ac80-3aa73ae6c19f"
    }
   },
   "outputs": [],
   "source": [
    "pred_test = pred_test_all"
   ]
  },
  {
   "cell_type": "code",
   "execution_count": 61,
   "metadata": {},
   "outputs": [
    {
     "data": {
      "text/plain": [
       "(18468, 2000, 3)"
      ]
     },
     "execution_count": 61,
     "metadata": {},
     "output_type": "execute_result"
    }
   ],
   "source": [
    "pred_test.shape"
   ]
  },
  {
   "cell_type": "code",
   "execution_count": 62,
   "metadata": {
    "nbpresent": {
     "id": "7da59efb-c8bc-426a-a848-f1ff21e62cc0"
    }
   },
   "outputs": [],
   "source": [
    "# target_pred = pred_test\n",
    "# target_pred[(target_pred>=0.5)]=1\n",
    "# target_pred[(target_pred<0.5)]=0\n",
    "\n",
    "target_pred = np.argmax(pred_test, axis = 2)   \n",
    "y_pred = target_pred.reshape(-1,1)"
   ]
  },
  {
   "cell_type": "code",
   "execution_count": 81,
   "metadata": {},
   "outputs": [
    {
     "data": {
      "text/plain": [
       "32542.9501953125"
      ]
     },
     "execution_count": 81,
     "metadata": {},
     "output_type": "execute_result"
    }
   ],
   "source": [
    "33323981/1024"
   ]
  },
  {
   "cell_type": "code",
   "execution_count": 63,
   "metadata": {
    "nbpresent": {
     "id": "245081b8-209e-4acd-92be-f119bba742b8"
    }
   },
   "outputs": [
    {
     "data": {
      "text/plain": [
       "(array([    2532,     2533,     2534, ..., 33324331, 33324332, 33324333]),\n",
       " array([0, 0, 0, ..., 0, 0, 0]))"
      ]
     },
     "execution_count": 63,
     "metadata": {},
     "output_type": "execute_result"
    }
   ],
   "source": [
    "y_true = y_test.reshape(-1,1)\n",
    "np.where(y_true==np.array([2]))"
   ]
  },
  {
   "cell_type": "code",
   "execution_count": 64,
   "metadata": {
    "nbpresent": {
     "id": "1994c739-62cd-4616-a073-4d58e7ca333a"
    }
   },
   "outputs": [],
   "source": [
    "from sklearn.metrics import confusion_matrix\n",
    "import itertools\n",
    "# 绘制混淆矩阵\n",
    "def plot_confusion_matrix(cm, classes, normalize=False, title='Confusion matrix', cmap=plt.cm.Blues):\n",
    "    \"\"\"\n",
    "    This function prints and plots the confusion matrix.\n",
    "    Normalization can be applied by setting `normalize=True`.\n",
    "    Input\n",
    "    - cm : 计算出的混淆矩阵的值\n",
    "    - classes : 混淆矩阵中每一行每一列对应的列\n",
    "    - normalize : True:显示百分比, False:显示个数\n",
    "    \"\"\"\n",
    "    if normalize:\n",
    "        cm = cm.astype('float') / cm.sum(axis=1)[:, np.newaxis]\n",
    "        print(\"Normalized confusion matrix\")\n",
    "    else:\n",
    "        print('Confusion matrix, without normalization')\n",
    "    print(cm)\n",
    "    plt.imshow(cm, interpolation='nearest', cmap=cmap)\n",
    "    plt.title(title)\n",
    "    plt.colorbar()\n",
    "    tick_marks = np.arange(len(classes))\n",
    "    plt.xticks(tick_marks, classes, rotation=45)\n",
    "    plt.yticks(tick_marks, classes)\n",
    "    fmt = '.2f' if normalize else 'd'\n",
    "    thresh = cm.max() / 2.\n",
    "    for i, j in itertools.product(range(cm.shape[0]), range(cm.shape[1])):\n",
    "        plt.text(j, i, format(cm[i, j], fmt),\n",
    "                 horizontalalignment=\"center\",\n",
    "                 color=\"white\" if cm[i, j] > thresh else \"black\")\n",
    "    plt.tight_layout()\n",
    "    plt.ylabel('True label')\n",
    "    plt.xlabel('Predicted label')"
   ]
  },
  {
   "cell_type": "code",
   "execution_count": 65,
   "metadata": {
    "nbpresent": {
     "id": "1c432813-938a-4fa8-aae7-f385aff375b0"
    },
    "scrolled": false
   },
   "outputs": [
    {
     "name": "stdout",
     "output_type": "stream",
     "text": [
      "Normalized confusion matrix\n",
      "[[9.94674894e-01 2.76718126e-03 2.55792430e-03]\n",
      " [4.70904899e-01 5.28246441e-01 8.48659877e-04]\n",
      " [4.38374235e-01 1.59748855e-02 5.45650879e-01]]\n"
     ]
    },
    {
     "data": {
      "image/png": "[encoded data removed]",
      "text/plain": [
       "<Figure size 1440x432 with 2 Axes>"
      ]
     },
     "metadata": {},
     "output_type": "display_data"
    }
   ],
   "source": [
    "cm = confusion_matrix(y_true, y_pred)\n",
    "plot_confusion_matrix(cm, classes=range(nClasses), normalize=True, title='Normalized confusion matrix')"
   ]
  },
  {
   "cell_type": "code",
   "execution_count": 66,
   "metadata": {
    "nbpresent": {
     "id": "0cfed114-04f9-482c-9108-d428623ef07b"
    }
   },
   "outputs": [
    {
     "ename": "IndexError",
     "evalue": "index 32542 is out of bounds for axis 0 with size 18468",
     "output_type": "error",
     "traceback": [
      "\u001b[0;31m---------------------------------------------------------------------------\u001b[0m",
      "\u001b[0;31mIndexError\u001b[0m                                Traceback (most recent call last)",
      "\u001b[0;32m<ipython-input-66-4d69a9bcd977>\u001b[0m in \u001b[0;36m<module>\u001b[0;34m()\u001b[0m\n\u001b[1;32m      2\u001b[0m \u001b[0;34m\u001b[0m\u001b[0m\n\u001b[1;32m      3\u001b[0m \u001b[0mplt\u001b[0m\u001b[0;34m.\u001b[0m\u001b[0mfigure\u001b[0m\u001b[0;34m(\u001b[0m\u001b[0mfigsize\u001b[0m\u001b[0;34m=\u001b[0m\u001b[0;34m(\u001b[0m\u001b[0;36m15\u001b[0m\u001b[0;34m,\u001b[0m\u001b[0;36m5\u001b[0m\u001b[0;34m)\u001b[0m\u001b[0;34m)\u001b[0m\u001b[0;34m\u001b[0m\u001b[0m\n\u001b[0;32m----> 4\u001b[0;31m \u001b[0max1\u001b[0m\u001b[0;34m,\u001b[0m \u001b[0;34m=\u001b[0m \u001b[0mplt\u001b[0m\u001b[0;34m.\u001b[0m\u001b[0mplot\u001b[0m\u001b[0;34m(\u001b[0m\u001b[0mx_test\u001b[0m\u001b[0;34m[\u001b[0m\u001b[0mind\u001b[0m\u001b[0;34m]\u001b[0m\u001b[0;34m,\u001b[0m\u001b[0;34m)\u001b[0m\u001b[0;34m\u001b[0m\u001b[0m\n\u001b[0m\u001b[1;32m      5\u001b[0m \u001b[0max2\u001b[0m\u001b[0;34m,\u001b[0m \u001b[0;34m=\u001b[0m \u001b[0mplt\u001b[0m\u001b[0;34m.\u001b[0m\u001b[0mplot\u001b[0m\u001b[0;34m(\u001b[0m\u001b[0my_test\u001b[0m\u001b[0;34m[\u001b[0m\u001b[0mind\u001b[0m\u001b[0;34m]\u001b[0m\u001b[0;34m,\u001b[0m\u001b[0;34m'r'\u001b[0m\u001b[0;34m)\u001b[0m       \u001b[0;31m#红色是目标\u001b[0m\u001b[0;34m\u001b[0m\u001b[0m\n\u001b[1;32m      6\u001b[0m \u001b[0max3\u001b[0m\u001b[0;34m,\u001b[0m \u001b[0;34m=\u001b[0m \u001b[0mplt\u001b[0m\u001b[0;34m.\u001b[0m\u001b[0mplot\u001b[0m\u001b[0;34m(\u001b[0m\u001b[0mtarget_pred\u001b[0m\u001b[0;34m[\u001b[0m\u001b[0mind\u001b[0m\u001b[0;34m]\u001b[0m\u001b[0;34m,\u001b[0m\u001b[0;34m'g'\u001b[0m\u001b[0;34m)\u001b[0m  \u001b[0;31m#绿色是预测\u001b[0m\u001b[0;34m\u001b[0m\u001b[0m\n",
      "\u001b[0;31mIndexError\u001b[0m: index 32542 is out of bounds for axis 0 with size 18468"
     ]
    },
    {
     "data": {
      "text/plain": [
       "<Figure size 1080x360 with 0 Axes>"
      ]
     },
     "metadata": {},
     "output_type": "display_data"
    }
   ],
   "source": [
    "ind = 32542  #17902 + 18168 # 8159\n",
    "\n",
    "plt.figure(figsize=(15,5))\n",
    "ax1, = plt.plot(x_test[ind],)\n",
    "ax2, = plt.plot(y_test[ind],'r')       #红色是目标\n",
    "ax3, = plt.plot(target_pred[ind],'g')  #绿色是预测\n",
    "plt.legend([ax1, ax2, ax3], ['ecg', 'target label', 'predicted label'])\n",
    "# plt.xlim(0,500)\n",
    "plt.ylim(-1.5,3.5)\n",
    "plt.show()"
   ]
  },
  {
   "cell_type": "markdown",
   "metadata": {
    "nbpresent": {
     "id": "f7fad232-6f55-4886-9e45-e64be1d3f55b"
    }
   },
   "source": [
    "# 转化到Rloc"
   ]
  },
  {
   "cell_type": "code",
   "execution_count": 83,
   "metadata": {},
   "outputs": [
    {
     "data": {
      "text/plain": [
       "(36070, 1024)"
      ]
     },
     "execution_count": 83,
     "metadata": {},
     "output_type": "execute_result"
    }
   ],
   "source": [
    "target_pred.shape"
   ]
  },
  {
   "cell_type": "code",
   "execution_count": 84,
   "metadata": {},
   "outputs": [
    {
     "data": {
      "text/plain": [
       "array([0, 0, 0, ..., 0, 0, 0], dtype=int64)"
      ]
     },
     "execution_count": 84,
     "metadata": {},
     "output_type": "execute_result"
    }
   ],
   "source": [
    "target_pred.reshape(-1)"
   ]
  },
  {
   "cell_type": "code",
   "execution_count": 85,
   "metadata": {},
   "outputs": [
    {
     "ename": "NameError",
     "evalue": "name 'ecg_data_split' is not defined",
     "output_type": "error",
     "traceback": [
      "\u001b[0;31m---------------------------------------------------------------------------\u001b[0m",
      "\u001b[0;31mNameError\u001b[0m                                 Traceback (most recent call last)",
      "\u001b[0;32m<ipython-input-85-7fa94ede09de>\u001b[0m in \u001b[0;36m<module>\u001b[0;34m()\u001b[0m\n\u001b[0;32m----> 1\u001b[0;31m \u001b[0mx_test\u001b[0m \u001b[1;33m=\u001b[0m \u001b[0mnp\u001b[0m\u001b[1;33m.\u001b[0m\u001b[0mexpand_dims\u001b[0m\u001b[1;33m(\u001b[0m\u001b[0mecg_data_split\u001b[0m\u001b[1;33m,\u001b[0m \u001b[0maxis\u001b[0m\u001b[1;33m=\u001b[0m\u001b[1;36m2\u001b[0m\u001b[1;33m)\u001b[0m\u001b[1;33m\u001b[0m\u001b[0m\n\u001b[0m\u001b[1;32m      2\u001b[0m \u001b[0mpred_test\u001b[0m \u001b[1;33m=\u001b[0m \u001b[0mmodel\u001b[0m\u001b[1;33m.\u001b[0m\u001b[0mpredict\u001b[0m\u001b[1;33m(\u001b[0m\u001b[0mx_test\u001b[0m\u001b[1;33m)\u001b[0m\u001b[1;33m\u001b[0m\u001b[0m\n\u001b[1;32m      3\u001b[0m \u001b[0mtarget_pred\u001b[0m \u001b[1;33m=\u001b[0m \u001b[0mnp\u001b[0m\u001b[1;33m.\u001b[0m\u001b[0margmax\u001b[0m\u001b[1;33m(\u001b[0m\u001b[0mpred_test\u001b[0m\u001b[1;33m,\u001b[0m \u001b[0maxis\u001b[0m \u001b[1;33m=\u001b[0m \u001b[1;36m2\u001b[0m\u001b[1;33m)\u001b[0m\u001b[1;33m\u001b[0m\u001b[0m\n\u001b[1;32m      4\u001b[0m \u001b[0my_pred\u001b[0m \u001b[1;33m=\u001b[0m \u001b[0mtarget_pred\u001b[0m\u001b[1;33m.\u001b[0m\u001b[0mreshape\u001b[0m\u001b[1;33m(\u001b[0m\u001b[1;33m-\u001b[0m\u001b[1;36m1\u001b[0m\u001b[1;33m,\u001b[0m\u001b[1;36m1\u001b[0m\u001b[1;33m)\u001b[0m\u001b[1;33m\u001b[0m\u001b[0m\n\u001b[1;32m      5\u001b[0m \u001b[1;31m# y_true = y_test.reshape(-1,1)\u001b[0m\u001b[1;33m\u001b[0m\u001b[1;33m\u001b[0m\u001b[0m\n",
      "\u001b[0;31mNameError\u001b[0m: name 'ecg_data_split' is not defined"
     ]
    }
   ],
   "source": [
    "x_test = np.expand_dims(ecg_data_split, axis=2)\n",
    "pred_test = model.predict(x_test)\n",
    "target_pred = np.argmax(pred_test, axis = 2)\n",
    "y_pred = target_pred.reshape(-1,1)\n",
    "# y_true = y_test.reshape(-1,1)"
   ]
  },
  {
   "cell_type": "code",
   "execution_count": 86,
   "metadata": {},
   "outputs": [
    {
     "data": {
      "text/plain": [
       "(36070, 1024)"
      ]
     },
     "execution_count": 86,
     "metadata": {},
     "output_type": "execute_result"
    }
   ],
   "source": [
    "target_pred.shape"
   ]
  },
  {
   "cell_type": "code",
   "execution_count": 87,
   "metadata": {},
   "outputs": [],
   "source": [
    "y_pred = target_pred[:9166].reshape(-1)\n",
    "# y_test = ecg_label_split"
   ]
  },
  {
   "cell_type": "code",
   "execution_count": 88,
   "metadata": {},
   "outputs": [
    {
     "ename": "IndexError",
     "evalue": "index 60 is out of bounds for axis 0 with size 0",
     "output_type": "error",
     "traceback": [
      "\u001b[0;31m---------------------------------------------------------------------------\u001b[0m",
      "\u001b[0;31mIndexError\u001b[0m                                Traceback (most recent call last)",
      "\u001b[0;32m<ipython-input-88-34c7b3532711>\u001b[0m in \u001b[0;36m<module>\u001b[0;34m()\u001b[0m\n\u001b[0;32m----> 1\u001b[0;31m \u001b[0mind\u001b[0m \u001b[1;33m=\u001b[0m \u001b[0mint\u001b[0m\u001b[1;33m(\u001b[0m\u001b[0ms_ref\u001b[0m\u001b[1;33m[\u001b[0m\u001b[1;36m60\u001b[0m\u001b[1;33m]\u001b[0m\u001b[1;33m/\u001b[0m\u001b[0mlen_seg\u001b[0m\u001b[1;33m)\u001b[0m\u001b[1;33m\u001b[0m\u001b[0m\n\u001b[0m\u001b[1;32m      2\u001b[0m \u001b[1;33m\u001b[0m\u001b[0m\n\u001b[1;32m      3\u001b[0m \u001b[0mplt\u001b[0m\u001b[1;33m.\u001b[0m\u001b[0mfigure\u001b[0m\u001b[1;33m(\u001b[0m\u001b[0mfigsize\u001b[0m\u001b[1;33m=\u001b[0m\u001b[1;33m(\u001b[0m\u001b[1;36m15\u001b[0m\u001b[1;33m,\u001b[0m\u001b[1;36m5\u001b[0m\u001b[1;33m)\u001b[0m\u001b[1;33m)\u001b[0m\u001b[1;33m\u001b[0m\u001b[0m\n\u001b[1;32m      4\u001b[0m \u001b[0max1\u001b[0m\u001b[1;33m,\u001b[0m \u001b[1;33m=\u001b[0m \u001b[0mplt\u001b[0m\u001b[1;33m.\u001b[0m\u001b[0mplot\u001b[0m\u001b[1;33m(\u001b[0m\u001b[0mx_test\u001b[0m\u001b[1;33m[\u001b[0m\u001b[0mind\u001b[0m\u001b[1;33m]\u001b[0m\u001b[1;33m,\u001b[0m\u001b[1;33m)\u001b[0m\u001b[1;33m\u001b[0m\u001b[0m\n\u001b[1;32m      5\u001b[0m \u001b[0max2\u001b[0m\u001b[1;33m,\u001b[0m \u001b[1;33m=\u001b[0m \u001b[0mplt\u001b[0m\u001b[1;33m.\u001b[0m\u001b[0mplot\u001b[0m\u001b[1;33m(\u001b[0m\u001b[0my_test\u001b[0m\u001b[1;33m[\u001b[0m\u001b[0mind\u001b[0m\u001b[1;33m]\u001b[0m\u001b[1;33m,\u001b[0m\u001b[1;34m'r'\u001b[0m\u001b[1;33m)\u001b[0m       \u001b[1;31m#红色是目标\u001b[0m\u001b[1;33m\u001b[0m\u001b[0m\n",
      "\u001b[0;31mIndexError\u001b[0m: index 60 is out of bounds for axis 0 with size 0"
     ]
    }
   ],
   "source": [
    "ind = int(s_ref[60]/len_seg)\n",
    "\n",
    "plt.figure(figsize=(15,5))\n",
    "ax1, = plt.plot(x_test[ind],)\n",
    "ax2, = plt.plot(y_test[ind],'r')       #红色是目标\n",
    "ax3, = plt.plot(target_pred[ind],'g')  #绿色是预测\n",
    "plt.legend([ax1, ax2, ax3], ['ecg', 'target label', 'predicted label'])\n",
    "# plt.xlim(0,500)\n",
    "plt.ylim(-1.5,3.5)\n",
    "plt.show()"
   ]
  },
  {
   "cell_type": "code",
   "execution_count": null,
   "metadata": {
    "collapsed": true
   },
   "outputs": [],
   "source": []
  },
  {
   "cell_type": "code",
   "execution_count": null,
   "metadata": {
    "collapsed": true
   },
   "outputs": [],
   "source": []
  },
  {
   "cell_type": "code",
   "execution_count": null,
   "metadata": {
    "collapsed": true
   },
   "outputs": [],
   "source": []
  },
  {
   "cell_type": "code",
   "execution_count": 89,
   "metadata": {},
   "outputs": [
    {
     "name": "stderr",
     "output_type": "stream",
     "text": [
      "100%|████████████████████████████████████████████████████████████████████| 9385984/9385984 [00:25<00:00, 370413.30it/s]\n"
     ]
    }
   ],
   "source": [
    "s_count = 0\n",
    "v_count = 0\n",
    "\n",
    "s_results = []\n",
    "v_results = []\n",
    "\n",
    "for i in tqdm(range(0,len(y_pred))):\n",
    "    if (y_pred[i]>1):\n",
    "        v_count = v_count+1\n",
    "    elif (y_pred[i]>0):\n",
    "        s_count = s_count+1\n",
    "    else:\n",
    "        if (s_count>=200*0.1):#40\n",
    "            ind = i- round(s_count*0.3)\n",
    "            s_results.append(ind)\n",
    "            \n",
    "        if (v_count>=200*0.1):#40\n",
    "            ind = i- round(v_count*0.3)\n",
    "            v_results.append(ind)\n",
    "            \n",
    "        s_count=0\n",
    "        v_count=0\n",
    "\n",
    "# if (count>=200*0.1*0.5):#60\n",
    "#     ind = len(y_pred)- round(count*0.5)\n",
    "#     r_ans.append(ind)"
   ]
  },
  {
   "cell_type": "code",
   "execution_count": 90,
   "metadata": {},
   "outputs": [
    {
     "data": {
      "text/plain": [
       "972"
      ]
     },
     "execution_count": 90,
     "metadata": {},
     "output_type": "execute_result"
    }
   ],
   "source": [
    "len(v_results)"
   ]
  },
  {
   "cell_type": "code",
   "execution_count": 91,
   "metadata": {},
   "outputs": [],
   "source": [
    "s_ref = sio.loadmat('../TrainingSet/ref\\\\R08.mat')['ref']['S_ref'][0, 0].squeeze()\n",
    "v_ref = sio.loadmat('../TrainingSet/ref\\\\R08.mat')['ref']['V_ref'][0, 0].squeeze()\n",
    "#标签下采样\n",
    "s_ref = (s_ref*CONST).astype(int)\n",
    "v_ref = (v_ref*CONST).astype(int)\n",
    "\n",
    "S_ref = (s_ref/CONST).astype(int)\n",
    "V_ref = (v_ref/CONST).astype(int)\n",
    "\n",
    "S_results = (np.array(s_results)/CONST).astype(int)\n",
    "V_results = (np.array(v_results)/CONST).astype(int)"
   ]
  },
  {
   "cell_type": "code",
   "execution_count": 92,
   "metadata": {},
   "outputs": [
    {
     "data": {
      "text/plain": [
       "((0,), (2793,), (420,), (972,))"
      ]
     },
     "execution_count": 92,
     "metadata": {},
     "output_type": "execute_result"
    }
   ],
   "source": [
    "S_ref.shape,V_ref.shape,S_results.shape,V_results.shape"
   ]
  },
  {
   "cell_type": "code",
   "execution_count": 98,
   "metadata": {},
   "outputs": [
    {
     "name": "stdout",
     "output_type": "stream",
     "text": [
      "S_score: -420.0\n",
      "V_score: -11320.0\n"
     ]
    }
   ],
   "source": [
    "S1, S2 = CPSC2020_score([S_ref], [V_ref],[S_results],[V_results])\n",
    "\n",
    "print (\"S_score: {}\".format(S1))\n",
    "print (\"V_score: {}\".format(S2))"
   ]
  },
  {
   "cell_type": "code",
   "execution_count": null,
   "metadata": {
    "collapsed": true
   },
   "outputs": [],
   "source": []
  },
  {
   "cell_type": "code",
   "execution_count": null,
   "metadata": {
    "collapsed": true
   },
   "outputs": [],
   "source": []
  },
  {
   "cell_type": "code",
   "execution_count": 68,
   "metadata": {},
   "outputs": [],
   "source": [
    "def CPSC2020_challenge(ECG, fs):\n",
    "    \"\"\"   \"\"\"\n",
    "    # 数据下采样\n",
    "    ecg_data = ECG[1::2]\n",
    "    len_ecg = len(ecg_data)\n",
    "\n",
    "    #数据预处理\n",
    "    ecg_data = med_filt_1d(ecg_data)\n",
    "    ##ecg_data = butter_bandpass_forward_backward_filter(ecg_data, 0.5, 35, FS, order=5)\n",
    "\n",
    "    ecg_data_split = []\n",
    "\n",
    "    for i in tqdm(range(int(ecg_data.shape[0]/len_seg))):\n",
    "        ecg_data_split.append(ecg_data[i*len_seg:(i+1)*len_seg].tolist())\n",
    "    ecg_data_split = np.array(ecg_data_split)\n",
    "\n",
    "    ecg_data_split = getSigArr(ecg_data_split.T).T\n",
    "\n",
    "    ecg_data_split = np.expand_dims(ecg_data_split, axis=2)\n",
    "    \n",
    "#     from keras.models import model_from_yaml\n",
    "#     fname_model = 'resnet_model.yaml'\n",
    "#     yaml_file = open(fname_model, 'r')\n",
    "#     loaded_model_yaml = yaml_file.read()\n",
    "#     yaml_file.close()\n",
    "#     model = model_from_yaml(loaded_model_yaml)\n",
    "\n",
    "#     # 加载模型权重\n",
    "#     fname_model_weigths = 'unetplus_deepsupervision_model_weights_2020-10-15.h5'\n",
    "#     model.load_weights(fname_model_weigths)\n",
    "    \n",
    "    pred_test = model.predict(ecg_data_split)\n",
    "\n",
    "    target_pred = np.argmax(pred_test, axis = 2)  \n",
    "    \n",
    "    y_pred = target_pred.reshape(-1)\n",
    "    \n",
    "    s_count = 0\n",
    "    v_count = 0\n",
    "\n",
    "    s_results = []\n",
    "    v_results = []\n",
    "\n",
    "    for i in tqdm(range(0,len(y_pred))):\n",
    "        if (y_pred[i]>1):\n",
    "            v_count = v_count+1\n",
    "        elif (y_pred[i]>0):\n",
    "            s_count = s_count+1\n",
    "        else:\n",
    "            if (s_count>=200*0.1):#40\n",
    "                ind = i- round(s_count*0.3)\n",
    "                s_results.append(ind)\n",
    "\n",
    "            if (v_count>=200*0.1):#40\n",
    "                ind = i- round(v_count*0.3)\n",
    "                v_results.append(ind)\n",
    "\n",
    "            s_count=0\n",
    "            v_count=0\n",
    "            \n",
    "    S_pos = (np.array(s_results)/CONST).astype(int)\n",
    "    V_pos = (np.array(v_results)/CONST).astype(int)\n",
    "    \n",
    "    return S_pos, V_pos\n"
   ]
  },
  {
   "cell_type": "code",
   "execution_count": null,
   "metadata": {
    "collapsed": true
   },
   "outputs": [],
   "source": []
  },
  {
   "cell_type": "code",
   "execution_count": 72,
   "metadata": {},
   "outputs": [
    {
     "name": "stdout",
     "output_type": "stream",
     "text": [
      "../TrainingSet/data/A08.mat ../TrainingSet/ref/R08.mat\n"
     ]
    },
    {
     "name": "stderr",
     "output_type": "stream",
     "text": [
      "100%|██████████| 9166/9166 [00:00<00:00, 22591.47it/s]\n",
      "100%|██████████| 18332000/18332000 [00:08<00:00, 2241748.57it/s]\n"
     ]
    },
    {
     "name": "stdout",
     "output_type": "stream",
     "text": [
      "../TrainingSet/data/A09.mat ../TrainingSet/ref/R09.mat\n"
     ]
    },
    {
     "name": "stderr",
     "output_type": "stream",
     "text": [
      "100%|██████████| 9302/9302 [00:00<00:00, 24385.21it/s]\n",
      "100%|██████████| 18604000/18604000 [00:09<00:00, 1998415.00it/s]\n"
     ]
    }
   ],
   "source": [
    "FS = 400\n",
    "THR = 0.15\n",
    "DATA_PATH = '../TrainingSet/data/'\n",
    "REF_PATH = '../TrainingSet/ref/'\n",
    "import glob\n",
    "import numpy as np\n",
    "import os\n",
    "import scipy.io as sio\n",
    "\n",
    "def load_ans():\n",
    "    \"\"\"\n",
    "    Function for loading the detection results and references\n",
    "    Input:\n",
    "\n",
    "    Ouput:\n",
    "        S_refs: position references for S\n",
    "        V_refs: position references for V\n",
    "        S_results: position results for S\n",
    "        V_results: position results for V\n",
    "    \"\"\"\n",
    "    data_files = glob.glob(DATA_PATH + '*.mat')\n",
    "    ref_files = glob.glob(REF_PATH + '*.mat')\n",
    "    \n",
    "    data_files.sort()\n",
    "    ref_files.sort()\n",
    "    \n",
    "    data_files = data_files[7:9]\n",
    "    ref_files  = ref_files[7:9]\n",
    "    \n",
    "    S_refs = []\n",
    "    V_refs = []\n",
    "    S_results = []\n",
    "    V_results = []\n",
    "    for i, data_file in enumerate(data_files[:]):\n",
    "        print(data_file,ref_files[i])\n",
    "        # load ecg file\n",
    "        ecg_data = sio.loadmat(data_file)['ecg'].squeeze()\n",
    "        # load answers\n",
    "        s_ref = sio.loadmat(ref_files[i])['ref']['S_ref'][0, 0].squeeze()\n",
    "        v_ref = sio.loadmat(ref_files[i])['ref']['V_ref'][0, 0].squeeze().reshape(-1)\n",
    "        # process ecg and conduct event detection using your algorithm\n",
    "        s_pos, v_pos = CPSC2020_challenge(ecg_data, FS)\n",
    "        S_refs.append(s_ref)\n",
    "        V_refs.append(v_ref)\n",
    "        S_results.append(s_pos)\n",
    "        V_results.append(v_pos)\n",
    "\n",
    "    return S_refs, V_refs, S_results, V_results\n",
    "\n",
    "S_refs, V_refs, S_results, V_results = load_ans()"
   ]
  },
  {
   "cell_type": "code",
   "execution_count": 73,
   "metadata": {
    "code_folding": []
   },
   "outputs": [],
   "source": [
    "def CPSC2020_score(S_refs, V_refs, S_results, V_results):\n",
    "    \"\"\"\n",
    "    Score Function\n",
    "    Input:\n",
    "        S_refs, V_refs, S_results, V_results\n",
    "    Output:\n",
    "        Score1: score for S\n",
    "        Score2: score for V\n",
    "    \"\"\"\n",
    "    s_score = np.zeros([len(S_refs), ])\n",
    "    v_score = np.zeros([len(S_refs), ])\n",
    "    ## Scoring ##\n",
    "    for i, s_ref in enumerate(S_refs):\n",
    "        v_ref = V_refs[i]\n",
    "        s_pos = S_results[i]\n",
    "        v_pos = V_results[i]\n",
    "        s_tp = 0\n",
    "        s_fp = 0\n",
    "        s_fn = 0\n",
    "        v_tp = 0\n",
    "        v_fp = 0\n",
    "        v_fn = 0\n",
    "        if s_ref.size == 0:\n",
    "            s_fp = len(s_pos)\n",
    "        else:\n",
    "            for m, ans in enumerate(s_ref):\n",
    "                s_pos_cand = np.where(abs(s_pos-ans) <= THR*FS)[0]\n",
    "                if s_pos_cand.size == 0:\n",
    "                    s_fn += 1\n",
    "                else:\n",
    "                    s_tp += 1\n",
    "                    s_fp += len(s_pos_cand) - 1\n",
    "        if v_ref.size == 0:\n",
    "            v_fp = len(v_pos)\n",
    "        else:\n",
    "            for m, ans in enumerate(v_ref):\n",
    "                v_pos_cand = np.where(abs(v_pos-ans) <= THR*FS)[0]\n",
    "                if v_pos_cand.size == 0:\n",
    "                    v_fn += 1\n",
    "                else:\n",
    "                    v_tp += 1\n",
    "                    v_fp += len(v_pos_cand) - 1\n",
    "        # calculate the score\n",
    "        s_score[i] = s_fp * (-1) + s_fn * (-5)\n",
    "        v_score[i] = v_fp * (-1) + v_fn * (-5)\n",
    "    Score1 = np.sum(s_score)\n",
    "    Score2 = np.sum(v_score)\n",
    "\n",
    "    return Score1, Score2"
   ]
  },
  {
   "cell_type": "code",
   "execution_count": 74,
   "metadata": {},
   "outputs": [
    {
     "name": "stdout",
     "output_type": "stream",
     "text": [
      "S_score: -3380.0\n",
      "V_score: -8196.0\n"
     ]
    }
   ],
   "source": [
    "index = 11\n",
    "S1, S2 = CPSC2020_score(S_refs[:index], V_refs[:index], S_results[:index], V_results[:index])\n",
    "\n",
    "print (\"S_score: {}\".format(S1))\n",
    "print (\"V_score: {}\".format(S2))"
   ]
  },
  {
   "cell_type": "code",
   "execution_count": null,
   "metadata": {
    "collapsed": true
   },
   "outputs": [],
   "source": []
  },
  {
   "cell_type": "code",
   "execution_count": null,
   "metadata": {
    "collapsed": true
   },
   "outputs": [],
   "source": []
  },
  {
   "cell_type": "code",
   "execution_count": null,
   "metadata": {
    "collapsed": true
   },
   "outputs": [],
   "source": []
  },
  {
   "cell_type": "code",
   "execution_count": null,
   "metadata": {
    "collapsed": true
   },
   "outputs": [],
   "source": []
  }
 ],
 "metadata": {
  "anaconda-cloud": {},
  "kernelspec": {
   "display_name": "Python 3",
   "language": "python",
   "name": "python3"
  },
  "language_info": {
   "codemirror_mode": {
    "name": "ipython",
    "version": 3
   },
   "file_extension": ".py",
   "mimetype": "text/x-python",
   "name": "python",
   "nbconvert_exporter": "python",
   "pygments_lexer": "ipython3",
   "version": "3.6.5"
  },
  "toc": {
   "base_numbering": 1,
   "nav_menu": {},
   "number_sections": true,
   "sideBar": true,
   "skip_h1_title": false,
   "title_cell": "Table of Contents",
   "title_sidebar": "Contents",
   "toc_cell": false,
   "toc_position": {},
   "toc_section_display": true,
   "toc_window_display": false
  },
  "varInspector": {
   "cols": {
    "lenName": 16,
    "lenType": 16,
    "lenVar": 40
   },
   "kernels_config": {
    "python": {
     "delete_cmd_postfix": "",
     "delete_cmd_prefix": "del ",
     "library": "var_list.py",
     "varRefreshCmd": "print(var_dic_list())"
    },
    "r": {
     "delete_cmd_postfix": ") ",
     "delete_cmd_prefix": "rm(",
     "library": "var_list.r",
     "varRefreshCmd": "cat(var_dic_list()) "
    }
   },
   "types_to_exclude": [
    "module",
    "function",
    "builtin_function_or_method",
    "instance",
    "_Feature"
   ],
   "window_display": false
  }
 },
 "nbformat": 4,
 "nbformat_minor": 1
}
